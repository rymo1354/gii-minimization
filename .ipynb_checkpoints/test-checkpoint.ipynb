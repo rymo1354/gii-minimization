{
 "cells": [
  {
   "cell_type": "markdown",
   "id": "69247720",
   "metadata": {},
   "source": [
    "## Imports"
   ]
  },
  {
   "cell_type": "code",
   "execution_count": 1,
   "id": "b5409d01",
   "metadata": {},
   "outputs": [],
   "source": [
    "import time\n",
    "import json\n",
    "import numpy as np\n",
    "import pandas as pd\n",
    "from pymatgen.core.periodic_table import Species\n",
    "from pymatgen.core.structure import Structure"
   ]
  },
  {
   "cell_type": "markdown",
   "id": "cd409d50",
   "metadata": {},
   "source": [
    "## Read in JSON for Testing"
   ]
  },
  {
   "cell_type": "code",
   "execution_count": 2,
   "id": "57d726ca",
   "metadata": {},
   "outputs": [],
   "source": [
    "with open('Materials_Project_NaNbO3.json') as json_file:\n",
    "    nanbo3_dct = json.load(json_file)\n",
    "for key in list(nanbo3_dct.keys()):\n",
    "    nanbo3_dct[key]['structures'] = [Structure.from_dict(s) for s in nanbo3_dct[key]['structures']]"
   ]
  },
  {
   "cell_type": "markdown",
   "id": "01007837",
   "metadata": {},
   "source": [
    "# Benchmark gii_calculator.py"
   ]
  },
  {
   "cell_type": "markdown",
   "id": "ca68055b",
   "metadata": {},
   "source": [
    "## Compute Matminer GII - Benchmarking"
   ]
  },
  {
   "cell_type": "code",
   "execution_count": 3,
   "id": "0e2cec8c",
   "metadata": {},
   "outputs": [],
   "source": [
    "from matminer.featurizers.structure.bonding import GlobalInstabilityIndex\n",
    "# matminer GlobalInstabilityIndex uses bvparm16.cif, which is the default for GIICalculator"
   ]
  },
  {
   "cell_type": "code",
   "execution_count": 4,
   "id": "783c83a7",
   "metadata": {},
   "outputs": [],
   "source": [
    "benchmark_structure = nanbo3_dct['NaNbO3']['structures'][1]"
   ]
  },
  {
   "cell_type": "code",
   "execution_count": 5,
   "id": "fa45ed45",
   "metadata": {},
   "outputs": [
    {
     "name": "stderr",
     "output_type": "stream",
     "text": [
      "/Users/RyanMorelock/anaconda3/lib/python3.7/site-packages/pandas/io/parsers/readers.py:586: ParserWarning: Length of header or names does not match length of data. This leads to a loss of data with index_col=False.\n",
      "  return _read(filepath_or_buffer, kwds)\n"
     ]
    },
    {
     "name": "stdout",
     "output_type": "stream",
     "text": [
      "Time taken: --- 0.9626851081848145 seconds ---\n"
     ]
    }
   ],
   "source": [
    "start_time = time.time()\n",
    "mm_gii_calc = GlobalInstabilityIndex(r_cut=4)\n",
    "mm_gii = mm_gii_calc.featurize(benchmark_structure)[0]\n",
    "print(\"Time taken: --- %s seconds ---\" % (time.time() - start_time))"
   ]
  },
  {
   "cell_type": "code",
   "execution_count": 6,
   "id": "4d8539f2",
   "metadata": {},
   "outputs": [
    {
     "data": {
      "text/plain": [
       "0.22741774664473702"
      ]
     },
     "execution_count": 6,
     "metadata": {},
     "output_type": "execute_result"
    }
   ],
   "source": [
    "mm_gii"
   ]
  },
  {
   "cell_type": "markdown",
   "id": "de7487aa",
   "metadata": {},
   "source": [
    "## Compute GIICalculator GII"
   ]
  },
  {
   "cell_type": "code",
   "execution_count": 7,
   "id": "1a5350e1",
   "metadata": {},
   "outputs": [],
   "source": [
    "from gii_calculator import GIICalculator"
   ]
  },
  {
   "cell_type": "code",
   "execution_count": 8,
   "id": "3903a35c",
   "metadata": {},
   "outputs": [
    {
     "name": "stdout",
     "output_type": "stream",
     "text": [
      "Time taken: --- 0.19856786727905273 seconds ---\n"
     ]
    }
   ],
   "source": [
    "start_time = time.time()\n",
    "#gii_calc = GIICalculator(method='CrystalNN')\n",
    "gii_calc = GIICalculator(method='Cutoff', cutoff=4)\n",
    "gii = gii_calc.GII(benchmark_structure)\n",
    "print(\"Time taken: --- %s seconds ---\" % (time.time() - start_time))"
   ]
  },
  {
   "cell_type": "code",
   "execution_count": 9,
   "id": "94048b19",
   "metadata": {},
   "outputs": [
    {
     "data": {
      "text/plain": [
       "0.22741774664473707"
      ]
     },
     "execution_count": 9,
     "metadata": {},
     "output_type": "execute_result"
    }
   ],
   "source": [
    "gii"
   ]
  },
  {
   "cell_type": "code",
   "execution_count": 10,
   "id": "1ecf7ab8",
   "metadata": {},
   "outputs": [
    {
     "data": {
      "text/plain": [
       "{'Cation': [Species Na+, Species Nb5+],\n",
       " 'Anion': [Species O2-, Species O2-],\n",
       " 'R0': [1.803, 1.911],\n",
       " 'B': [0.37, 0.37]}"
      ]
     },
     "execution_count": 10,
     "metadata": {},
     "output_type": "execute_result"
    }
   ],
   "source": [
    "gii_calc.params_dict"
   ]
  },
  {
   "cell_type": "markdown",
   "id": "07db1e84",
   "metadata": {},
   "source": [
    "# Benchmark site_optimization.py"
   ]
  },
  {
   "cell_type": "markdown",
   "id": "5df1ff0d",
   "metadata": {},
   "source": [
    "## Perform the Site Optimization"
   ]
  },
  {
   "cell_type": "code",
   "execution_count": 11,
   "id": "bb96e688",
   "metadata": {},
   "outputs": [],
   "source": [
    "from site_optimization import SiteClusterOptimization"
   ]
  },
  {
   "cell_type": "code",
   "execution_count": 18,
   "id": "b1b4adc8",
   "metadata": {},
   "outputs": [],
   "source": [
    "sco = SiteClusterOptimization()"
   ]
  },
  {
   "cell_type": "code",
   "execution_count": 19,
   "id": "0aaf2c89",
   "metadata": {},
   "outputs": [
    {
     "name": "stdout",
     "output_type": "stream",
     "text": [
      "Time taken: --- 3.984825849533081 seconds ---\n"
     ]
    }
   ],
   "source": [
    "start_time = time.time()\n",
    "final_structure = sco.minimize_cluster_di_squared(benchmark_structure, site_ind=16) # pass the index of site to be optimized\n",
    "print(\"Time taken: --- %s seconds ---\" % (time.time() - start_time))"
   ]
  },
  {
   "cell_type": "code",
   "execution_count": 20,
   "id": "966465c3",
   "metadata": {},
   "outputs": [
    {
     "name": "stdout",
     "output_type": "stream",
     "text": [
      "Time taken: --- 0.14157724380493164 seconds ---\n"
     ]
    }
   ],
   "source": [
    "start_time = time.time()\n",
    "start_gii = gii_calc.GII(benchmark_structure)\n",
    "print(\"Time taken: --- %s seconds ---\" % (time.time() - start_time))"
   ]
  },
  {
   "cell_type": "code",
   "execution_count": 21,
   "id": "55a3a33b",
   "metadata": {},
   "outputs": [
    {
     "data": {
      "text/plain": [
       "0.22741774664473707"
      ]
     },
     "execution_count": 21,
     "metadata": {},
     "output_type": "execute_result"
    }
   ],
   "source": [
    "start_gii"
   ]
  },
  {
   "cell_type": "code",
   "execution_count": 22,
   "id": "c9406ddd",
   "metadata": {},
   "outputs": [
    {
     "name": "stdout",
     "output_type": "stream",
     "text": [
      "Time taken: --- 0.3294098377227783 seconds ---\n"
     ]
    }
   ],
   "source": [
    "start_time = time.time()\n",
    "final_gii = gii_calc.GII(final_structure, use_sym=False)\n",
    "print(\"Time taken: --- %s seconds ---\" % (time.time() - start_time))"
   ]
  },
  {
   "cell_type": "code",
   "execution_count": 23,
   "id": "5cdce0d5",
   "metadata": {},
   "outputs": [
    {
     "data": {
      "text/plain": [
       "0.2222068229123708"
      ]
     },
     "execution_count": 23,
     "metadata": {},
     "output_type": "execute_result"
    }
   ],
   "source": [
    "final_gii"
   ]
  },
  {
   "cell_type": "markdown",
   "id": "36d850e3",
   "metadata": {},
   "source": [
    "## Perform the Structure Optimization "
   ]
  },
  {
   "cell_type": "code",
   "execution_count": 12,
   "id": "91734c24",
   "metadata": {},
   "outputs": [],
   "source": [
    "from site_optimization import GIIMinimizer"
   ]
  },
  {
   "cell_type": "code",
   "execution_count": 25,
   "id": "8caa895b",
   "metadata": {},
   "outputs": [],
   "source": [
    "gii_minimizer = GIIMinimizer(benchmark_structure, convergence_tolerance=0.01)\n",
    "# All sites optimized until optimization of said site changes GII by < convergence_tolerance"
   ]
  },
  {
   "cell_type": "code",
   "execution_count": 26,
   "id": "ff42b5b2",
   "metadata": {},
   "outputs": [
    {
     "name": "stdout",
     "output_type": "stream",
     "text": [
      "Step 1 complete; 0.22741774664473727 --> 0.21685468242809414\n",
      "Step 2 complete; 0.21685468242809414 --> 0.21253671761744256\n",
      "Step 3 complete; 0.21253671761744256 --> 0.20319583095480914\n",
      "Step 4 complete; 0.20319583095480914 --> 0.19929305787714166\n",
      "Step 5 complete; 0.19929305787714166 --> 0.17406125117144214\n",
      "Step 6 complete; 0.17406125117144214 --> 0.1541425987472521\n",
      "Step 7 complete; 0.1541425987472521 --> 0.14735253314386446\n",
      "Step 8 complete; 0.14735253314386446 --> 0.12605574185146776\n",
      "Step 9 complete; 0.12605574185146776 --> 0.1172540398089425\n",
      "Step 10 complete; 0.1172540398089425 --> 0.11532954906197346\n",
      "Step 11 complete; 0.11532954906197346 --> 0.11098630269185894\n",
      "Step 12 complete; 0.11098630269185894 --> 0.10514996486333666\n",
      "Step 13 complete; 0.10514996486333666 --> 0.10514996486333666\n",
      "Step 14 complete; 0.10514996486333666 --> 0.10514996486333666\n",
      "Step 15 complete; 0.10514996486333666 --> 0.10512042010554813\n",
      "Step 16 complete; 0.10512042010554813 --> 0.1051185729262532\n",
      "Step 17 complete; 0.1051185729262532 --> 0.0986069988851831\n",
      "Step 18 complete; 0.0986069988851831 --> 0.09122660778338057\n",
      "Step 19 complete; 0.09122660778338057 --> 0.07878842921420805\n",
      "Step 20 complete; 0.07878842921420805 --> 0.072647054513046\n",
      "Step 21 complete; 0.072647054513046 --> 0.07136760157205188\n",
      "Step 22 complete; 0.07136760157205188 --> 0.07028418106471407\n",
      "Step 23 complete; 0.07028418106471407 --> 0.06761867338826875\n",
      "Step 24 complete; 0.06761867338826875 --> 0.06761867338826873\n",
      "Step 25 complete; 0.06761867338826873 --> 0.0657293991543679\n",
      "Convergence reached; delGII from all site optimizations < 0.01\n",
      "Total Time: --- 333.1009600162506 seconds ---\n"
     ]
    }
   ],
   "source": [
    "optimized_structure = gii_minimizer.gii_minimization(opt_method='max')"
   ]
  },
  {
   "cell_type": "code",
   "execution_count": 27,
   "id": "b4411b6d",
   "metadata": {},
   "outputs": [
    {
     "name": "stdout",
     "output_type": "stream",
     "text": [
      "Specie: Na+, delGII of optimization step: 0.006511574041070112\n",
      "Specie: Na+, delGII of optimization step: 0.007380391101802525\n",
      "Specie: Na+, delGII of optimization step: 0.0018892742339008256\n",
      "Specie: Na+, delGII of optimization step: 0.00614137470116205\n",
      "Specie: Nb5+, delGII of optimization step: 2.9544757788532716e-05\n",
      "Specie: Nb5+, delGII of optimization step: 0.0\n",
      "Specie: Nb5+, delGII of optimization step: 1.847179294925394e-06\n",
      "Specie: Nb5+, delGII of optimization step: 0.0\n",
      "Specie: O2-, delGII of optimization step: 0.008801702042525256\n",
      "Specie: O2-, delGII of optimization step: 0.001924490746969043\n",
      "Specie: O2-, delGII of optimization step: 0.004343246370114517\n",
      "Specie: O2-, delGII of optimization step: 0.0058363378285222756\n",
      "Specie: O2-, delGII of optimization step: 0.006790065603387657\n",
      "Specie: O2-, delGII of optimization step: 2.7755575615628914e-17\n",
      "Specie: O2-, delGII of optimization step: 0.002665507676445314\n",
      "Specie: O2-, delGII of optimization step: 0.0010834205073378123\n",
      "Specie: O2-, delGII of optimization step: 0.004317964810651581\n",
      "Specie: O2-, delGII of optimization step: 0.009340886662633413\n",
      "Specie: O2-, delGII of optimization step: 0.0012794529409941163\n",
      "Specie: O2-, delGII of optimization step: 0.003902773077667482\n"
     ]
    }
   ],
   "source": [
    "# Get the change in GII following optimization for each site in the structure, show that it is < convergence_tolerance\n",
    "for i in range(len(gii_minimizer.diffs)):\n",
    "    print('Specie: %s, delGII of optimization step: %s' % (optimized_structure[i].specie, gii_minimizer.diffs[i]))"
   ]
  },
  {
   "cell_type": "markdown",
   "id": "2a31514c",
   "metadata": {},
   "source": [
    "# Benchmark parameterization.py"
   ]
  },
  {
   "cell_type": "code",
   "execution_count": 17,
   "id": "28ea8fc7",
   "metadata": {},
   "outputs": [],
   "source": [
    "from parameterization import GeneralBVParamOptimization\n",
    "from parameterization import GeneralBVParamOptimizationOuterLoop\n",
    "from pymatgen.core.periodic_table import Specie"
   ]
  },
  {
   "cell_type": "code",
   "execution_count": 26,
   "id": "47873f73",
   "metadata": {},
   "outputs": [],
   "source": [
    "### Only consider structures with 20 atoms or fewer to speed up parameterization test\n",
    "cmpd = 'NaNbO3'\n",
    "ss = nanbo3_dct[cmpd]['structures']\n",
    "short_inds = [i for i in range(len(ss)) if len(ss[i]) <= 20]\n",
    "\n",
    "short_structures = [ss[i] for i in short_inds]\n",
    "short_energies = [nanbo3_dct['NaNbO3']['energies'][i] for i in short_inds]\n",
    "short_dct = {cmpd: {'structures': short_structures, 'energies': short_energies}}\n",
    "\n",
    "cation = Specie('Nb', 5)\n",
    "anion = Specie('O', -2)\n",
    "cations_anions = [(Specie('Nb', 5), Specie('O', -2)), (Specie('Na', 1), Specie('O', -2))]\n",
    "options = {'gtol': 0.01, 'xtol': 0.01, 'barrier_tol': 0.01, 'disp': True, 'verbose': 0} # Changed from default"
   ]
  },
  {
   "cell_type": "markdown",
   "id": "0a35ce05",
   "metadata": {},
   "source": [
    "## Composition-Specific Parameterization"
   ]
  },
  {
   "cell_type": "code",
   "execution_count": null,
   "id": "70a296ae",
   "metadata": {},
   "outputs": [],
   "source": []
  },
  {
   "cell_type": "markdown",
   "id": "f62bad2a",
   "metadata": {},
   "source": [
    "## Parameterization that minimizes site discrepancy factor RMSD"
   ]
  },
  {
   "cell_type": "markdown",
   "id": "867471c3",
   "metadata": {},
   "source": [
    "### Single Parameter Optimization"
   ]
  },
  {
   "cell_type": "code",
   "execution_count": 13,
   "id": "72ad1854",
   "metadata": {},
   "outputs": [],
   "source": [
    "single_parameterization_rmsd = GeneralBVParamOptimization([short_structures], [short_energies], \n",
    "                                                          gii_calc.params_dict, cation, anion, \n",
    "                                                          obj_func='di2_rmsd', options=options)"
   ]
  },
  {
   "cell_type": "code",
   "execution_count": 18,
   "id": "902d4f85",
   "metadata": {},
   "outputs": [
    {
     "name": "stdout",
     "output_type": "stream",
     "text": [
      "0.43217634981643743\n",
      "0.43217600192001077\n",
      "63.21939147166732\n",
      "63.219399469371446\n",
      "0.41408252059348816\n",
      "0.4140829450589659\n",
      "0.6421104546455951\n",
      "0.6421101238157407\n",
      "0.20743101112192222\n",
      "0.20743065676704303\n",
      "0.3224547408298752\n",
      "0.3224551532085578\n",
      "0.0742907518863612\n",
      "0.07429094325818793\n",
      "0.20907176225894358\n",
      "0.20907140775478625\n",
      "0.0802351223950141\n",
      "0.080234895341338\n",
      "`xtol` termination condition is satisfied.\n",
      "Number of iterations: 9, function evaluations: 18, CG iterations: 8, optimality: 6.60e+00, constraint violation: 0.00e+00, execution time: 1.9e+01 s.\n"
     ]
    }
   ],
   "source": [
    "rmsd_optimized_param_dict = single_parameterization_rmsd.param_optimizer()"
   ]
  },
  {
   "cell_type": "code",
   "execution_count": 19,
   "id": "ae45b933",
   "metadata": {},
   "outputs": [
    {
     "data": {
      "text/plain": [
       "({'Cation': [Species Na+, Species Nb5+],\n",
       "  'Anion': [Species O2-, Species O2-],\n",
       "  'R0': [1.803, 1.947],\n",
       "  'B': [0.37, 0.37]},\n",
       " {'Cation': [Species Na+, Species Nb5+],\n",
       "  'Anion': [Species O2-, Species O2-],\n",
       "  'R0': [1.803, 1.911],\n",
       "  'B': [0.37, 0.37]})"
      ]
     },
     "execution_count": 19,
     "metadata": {},
     "output_type": "execute_result"
    }
   ],
   "source": [
    "rmsd_optimized_param_dict, gii_calc.params_dict"
   ]
  },
  {
   "cell_type": "markdown",
   "id": "d41372ac",
   "metadata": {},
   "source": [
    "### Multiple Parameter Optimization"
   ]
  },
  {
   "cell_type": "code",
   "execution_count": 30,
   "id": "e5a580f9",
   "metadata": {},
   "outputs": [
    {
     "name": "stdout",
     "output_type": "stream",
     "text": [
      "(Species Nb5+, Species O2-) 1\n",
      "1.911 0.37\n",
      "0.43217634981643743\n",
      "0.43217600192001077\n",
      "63.21939147166732\n",
      "63.219399469371446\n",
      "0.41408252059348816\n",
      "0.4140829450589659\n",
      "0.6421104546455951\n",
      "0.6421101238157407\n",
      "0.20743101112192222\n",
      "0.20743065676704303\n",
      "0.3224547408298752\n",
      "0.3224551532085578\n",
      "0.0742907518863612\n",
      "0.07429094325818793\n",
      "0.20907176225894358\n",
      "0.20907140775478625\n",
      "0.0802351223950141\n",
      "0.080234895341338\n",
      "`xtol` termination condition is satisfied.\n",
      "Number of iterations: 9, function evaluations: 18, CG iterations: 8, optimality: 6.60e+00, constraint violation: 0.00e+00, execution time: 1.8e+01 s.\n",
      "1.947 0.37\n",
      "(Species Na+, Species O2-) 1\n",
      "1.803 0.37\n",
      "0.11400219061832283\n",
      "0.11400217674652065\n",
      "2.929394163023829\n",
      "2.9293945290047945\n",
      "0.11964710051488511\n",
      "0.11964712771839521\n",
      "0.11232720162549459\n",
      "0.11232720889891686\n",
      "0.11177575186306263\n",
      "0.11177575169816566\n",
      "0.11177546249795854\n",
      "0.11177546249600917\n",
      "`gtol` termination condition is satisfied.\n",
      "Number of iterations: 6, function evaluations: 12, CG iterations: 5, optimality: 7.22e-05, constraint violation: 0.00e+00, execution time: 2.8e+01 s.\n",
      "1.811 0.37\n",
      "(Species Nb5+, Species O2-) 2\n",
      "1.947 0.37\n",
      "0.0762893200727646\n",
      "0.07628952712092826\n",
      "4.662259186515146\n",
      "4.662259172913262\n",
      "3.695459135019512\n",
      "3.695459058999646\n",
      "2.122297432765\n",
      "2.1222972311908608\n",
      "0.950384173453677\n",
      "0.9503838696610815\n",
      "0.3731246550152387\n",
      "0.3731243030768847\n",
      "0.15166428294930487\n",
      "0.1516639407745259\n",
      "`xtol` termination condition is satisfied.\n",
      "Number of iterations: 7, function evaluations: 14, CG iterations: 6, optimality: 7.14e+00, constraint violation: 0.00e+00, execution time: 1.4e+01 s.\n",
      "1.947 0.37\n",
      "Convergence Reached\n"
     ]
    }
   ],
   "source": [
    "rmsd_pol = GeneralBVParamOptimizationOuterLoop(short_dct, cations_anions, gii_calc.params_dict)\n",
    "rmsd_pol.parameter_optimization(obj_func='di2_rmsd', init_steps=1)"
   ]
  },
  {
   "cell_type": "code",
   "execution_count": 29,
   "id": "a21afba0",
   "metadata": {},
   "outputs": [
    {
     "data": {
      "text/plain": [
       "({'Cation': [Species Na+, Species Nb5+],\n",
       "  'Anion': [Species O2-, Species O2-],\n",
       "  'R0': [1.803, 1.911],\n",
       "  'B': [0.37, 0.37]},\n",
       " {'Cation': [Species Na+, Species Nb5+],\n",
       "  'Anion': [Species O2-, Species O2-],\n",
       "  'R0': [1.811, 1.947],\n",
       "  'B': [0.37, 0.37]})"
      ]
     },
     "execution_count": 29,
     "metadata": {},
     "output_type": "execute_result"
    }
   ],
   "source": [
    "rmsd_pol.starting_params, rmsd_pol.updated_params"
   ]
  },
  {
   "cell_type": "markdown",
   "id": "6e83f666",
   "metadata": {},
   "source": [
    "## Parameterization considering GII-DFT Energetics Relationship"
   ]
  },
  {
   "cell_type": "markdown",
   "id": "4899d93c",
   "metadata": {},
   "source": [
    "### Single Parameter Optimization"
   ]
  },
  {
   "cell_type": "code",
   "execution_count": 21,
   "id": "cf7a93dd",
   "metadata": {},
   "outputs": [],
   "source": [
    "single_parameterization_gii = GeneralBVParamOptimization([short_structures], [short_energies], \n",
    "                                                         gii_calc.params_dict, cation, anion, options=options)"
   ]
  },
  {
   "cell_type": "code",
   "execution_count": 22,
   "id": "d1d83c99",
   "metadata": {},
   "outputs": [
    {
     "name": "stdout",
     "output_type": "stream",
     "text": [
      "-0.31195916177186295\n",
      "-0.3119589033101902\n",
      "0.8266033357753323\n",
      "0.8266033403357762\n",
      "0.8535480718045818\n",
      "0.8535480312807145\n",
      "-0.39097757443995895\n",
      "-0.39097744673730667\n",
      "0.8219541046955192\n",
      "0.8219541054515607\n",
      "0.8597353420839104\n",
      "0.8597352955922237\n",
      "-0.006678240659796331\n",
      "-0.006677508095843554\n",
      "0.8637758922263825\n",
      "0.8637758420623807\n",
      "0.8898997584077339\n",
      "0.8898996904176671\n",
      "0.7128752962143169\n",
      "0.7128769171081397\n",
      "0.9013424633844567\n",
      "0.9013423911335877\n",
      "`gtol` termination condition is satisfied.\n",
      "Number of iterations: 11, function evaluations: 22, CG iterations: 10, optimality: 4.62e-03, constraint violation: 0.00e+00, execution time: 5.8e+01 s.\n"
     ]
    }
   ],
   "source": [
    "gii_optimized_param_dict = single_parameterization_gii.param_optimizer()"
   ]
  },
  {
   "cell_type": "code",
   "execution_count": 25,
   "id": "6b86209f",
   "metadata": {},
   "outputs": [
    {
     "data": {
      "text/plain": [
       "({'Cation': [Species Na+, Species Nb5+],\n",
       "  'Anion': [Species O2-, Species O2-],\n",
       "  'R0': [1.803, 1.961],\n",
       "  'B': [0.37, 0.37]},\n",
       " {'Cation': [Species Na+, Species Nb5+],\n",
       "  'Anion': [Species O2-, Species O2-],\n",
       "  'R0': [1.803, 1.911],\n",
       "  'B': [0.37, 0.37]})"
      ]
     },
     "execution_count": 25,
     "metadata": {},
     "output_type": "execute_result"
    }
   ],
   "source": [
    "gii_optimized_param_dict, gii_calc.params_dict"
   ]
  },
  {
   "cell_type": "markdown",
   "id": "a73c9a46",
   "metadata": {},
   "source": [
    "### Multiple Parameter Optimization"
   ]
  },
  {
   "cell_type": "code",
   "execution_count": 31,
   "id": "24953545",
   "metadata": {},
   "outputs": [],
   "source": [
    "gii_pol = GeneralBVParamOptimizationOuterLoop(short_dct, cations_anions, gii_calc.params_dict)"
   ]
  },
  {
   "cell_type": "code",
   "execution_count": 32,
   "id": "f412b767",
   "metadata": {},
   "outputs": [
    {
     "name": "stdout",
     "output_type": "stream",
     "text": [
      "(Species Nb5+, Species O2-) 1\n",
      "1.911 0.37\n",
      "-0.31195916177186295\n",
      "-0.3119589033101902\n",
      "0.8266033357753323\n",
      "0.8266033403357762\n",
      "0.8535480718045818\n",
      "0.8535480312807145\n",
      "-0.39097757443995895\n",
      "-0.39097744673730667\n",
      "0.8219541046955192\n",
      "0.8219541054515607\n",
      "0.8597353420839104\n",
      "0.8597352955922237\n",
      "-0.006678240659796331\n",
      "-0.006677508095843554\n",
      "0.8637758922263825\n",
      "0.8637758420623807\n",
      "0.8898997584077339\n",
      "0.8898996904176671\n",
      "0.7128752962143169\n",
      "0.7128769171081397\n",
      "0.9013424633844567\n",
      "0.9013423911335877\n",
      "0.9075435169588297\n",
      "0.9075434781790628\n",
      "0.9080191392277475\n",
      "0.9080191566813389\n",
      "0.9080651549873842\n",
      "0.9080651646458515\n",
      "0.908076014635621\n",
      "0.9080760214093756\n",
      "`gtol` termination condition is satisfied.\n",
      "Number of iterations: 17, function evaluations: 30, CG iterations: 14, optimality: 8.65e-04, constraint violation: 0.00e+00, execution time: 7.9e+01 s.\n",
      "1.957 0.37\n",
      "(Species Na+, Species O2-) 1\n",
      "1.803 0.37\n",
      "0.9080332128113098\n",
      "0.9080331561312214\n",
      "0.8647245005521961\n",
      "0.8647245075482657\n",
      "0.928128455842581\n",
      "0.9281284732688118\n",
      "0.9102386228649307\n",
      "0.9102385689128697\n",
      "0.9261749785073761\n",
      "0.9261749434380303\n",
      "0.9406189922837072\n",
      "0.9406189788932953\n",
      "0.9374825677454524\n",
      "0.9374825447754653\n",
      "0.9319516674886805\n",
      "0.9319516379602643\n",
      "0.9340753612701249\n",
      "0.9340753334562422\n",
      "`gtol` termination condition is satisfied.\n",
      "Number of iterations: 11, function evaluations: 18, CG iterations: 8, optimality: 2.70e-04, constraint violation: 0.00e+00, execution time: 4.5e+01 s.\n",
      "1.785 0.37\n",
      "(Species Nb5+, Species O2-) 2\n",
      "1.957 0.37\n",
      "0.934473823320447\n",
      "0.9344737764723663\n",
      "0.8561751619640073\n",
      "0.8561751658293388\n",
      "0.8469129116017087\n",
      "0.8469128961126622\n",
      "0.8433106681879858\n",
      "0.8433106564197069\n",
      "0.8701898944062687\n",
      "0.8701898579829795\n",
      "0.8980914400384395\n",
      "0.8980913855179343\n",
      "0.9154853056919285\n",
      "0.9154852485995673\n",
      "0.9240581802372179\n",
      "0.9240581265877889\n",
      "0.934473823320447\n",
      "0.9344737764723663\n",
      "0.9291262729961658\n",
      "0.9291262178570884\n",
      "0.9302869093788996\n",
      "0.9302868223280233\n",
      "0.9308100780972268\n",
      "0.9308099633330205\n",
      "`gtol` termination condition is satisfied.\n",
      "Number of iterations: 12, function evaluations: 24, CG iterations: 10, optimality: 4.48e-04, constraint violation: 0.00e+00, execution time: 6.3e+01 s.\n",
      "1.958 0.37\n",
      "(Species Na+, Species O2-) 3\n",
      "1.785 0.37\n",
      "0.9309009914565682\n",
      "0.9309009698319655\n",
      "0.7912655961481114\n",
      "0.7912656054702778\n",
      "0.8822590771703085\n",
      "0.882259084350707\n",
      "0.9384505187478132\n",
      "0.9384505326916989\n",
      "0.08601054323522556\n",
      "0.08600940843029253\n",
      "0.9342329435371259\n",
      "0.9342329063347634\n",
      "0.9309933804550672\n",
      "0.9309933588053778\n",
      "0.9311823464895551\n",
      "0.9311823246363093\n",
      "0.9351528878074744\n",
      "0.9351528522234439\n",
      "0.932886664219964\n",
      "0.9328866267280267\n",
      "0.9338325269860117\n",
      "0.9338324892589389\n",
      "0.9324651631655265\n",
      "0.9324651278977382\n",
      "0.9324836544546209\n",
      "0.9324836190304742\n",
      "0.9319777872372158\n",
      "0.931977758438421\n",
      "`gtol` termination condition is satisfied.\n",
      "Number of iterations: 13, function evaluations: 28, CG iterations: 11, optimality: 2.65e-05, constraint violation: 0.00e+00, execution time: 7.3e+01 s.\n",
      "1.784 0.37\n",
      "Convergence Reached\n"
     ]
    }
   ],
   "source": [
    "gii_pol.parameter_optimization(init_steps=1, max_steps=3)"
   ]
  },
  {
   "cell_type": "code",
   "execution_count": 33,
   "id": "39fdea6e",
   "metadata": {},
   "outputs": [
    {
     "data": {
      "text/plain": [
       "({'Cation': [Species Na+, Species Nb5+],\n",
       "  'Anion': [Species O2-, Species O2-],\n",
       "  'R0': [1.803, 1.911],\n",
       "  'B': [0.37, 0.37]},\n",
       " {'Cation': [Species Na+, Species Nb5+],\n",
       "  'Anion': [Species O2-, Species O2-],\n",
       "  'R0': [1.784, 1.958],\n",
       "  'B': [0.37, 0.37]})"
      ]
     },
     "execution_count": 33,
     "metadata": {},
     "output_type": "execute_result"
    }
   ],
   "source": [
    "gii_pol.starting_params, gii_pol.updated_params"
   ]
  },
  {
   "cell_type": "code",
   "execution_count": null,
   "id": "998e8ae6",
   "metadata": {},
   "outputs": [],
   "source": []
  }
 ],
 "metadata": {
  "kernelspec": {
   "display_name": "Python 3 (ipykernel)",
   "language": "python",
   "name": "python3"
  },
  "language_info": {
   "codemirror_mode": {
    "name": "ipython",
    "version": 3
   },
   "file_extension": ".py",
   "mimetype": "text/x-python",
   "name": "python",
   "nbconvert_exporter": "python",
   "pygments_lexer": "ipython3",
   "version": "3.7.11"
  }
 },
 "nbformat": 4,
 "nbformat_minor": 5
}
