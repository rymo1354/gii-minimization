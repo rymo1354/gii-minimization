{
 "cells": [
  {
   "cell_type": "markdown",
   "id": "69247720",
   "metadata": {},
   "source": [
    "## Imports"
   ]
  },
  {
   "cell_type": "code",
   "execution_count": 1,
   "id": "b5409d01",
   "metadata": {},
   "outputs": [],
   "source": [
    "import time\n",
    "import json\n",
    "import numpy as np\n",
    "import pandas as pd\n",
    "from pymatgen.core.periodic_table import Species\n",
    "from pymatgen.core.structure import Structure"
   ]
  },
  {
   "cell_type": "markdown",
   "id": "cd409d50",
   "metadata": {},
   "source": [
    "## Read in JSON for Testing"
   ]
  },
  {
   "cell_type": "code",
   "execution_count": 2,
   "id": "57d726ca",
   "metadata": {},
   "outputs": [],
   "source": [
    "with open('Materials_Project_NaNbO3.json') as json_file:\n",
    "    nanbo3_dct = json.load(json_file)\n",
    "for key in list(nanbo3_dct.keys()):\n",
    "    nanbo3_dct[key]['structures'] = [Structure.from_dict(s) for s in nanbo3_dct[key]['structures']]"
   ]
  },
  {
   "cell_type": "markdown",
   "id": "01007837",
   "metadata": {},
   "source": [
    "# Benchmark gii_calculator.py"
   ]
  },
  {
   "cell_type": "markdown",
   "id": "ca68055b",
   "metadata": {},
   "source": [
    "## Compute Matminer GII - Benchmarking"
   ]
  },
  {
   "cell_type": "code",
   "execution_count": 3,
   "id": "0e2cec8c",
   "metadata": {},
   "outputs": [],
   "source": [
    "from matminer.featurizers.structure.bonding import GlobalInstabilityIndex\n",
    "# matminer GlobalInstabilityIndex uses bvparm16.cif, which is the default for GIICalculator"
   ]
  },
  {
   "cell_type": "code",
   "execution_count": 4,
   "id": "783c83a7",
   "metadata": {},
   "outputs": [],
   "source": [
    "benchmark_structure = nanbo3_dct['NaNbO3']['structures'][1]"
   ]
  },
  {
   "cell_type": "code",
   "execution_count": 5,
   "id": "fa45ed45",
   "metadata": {},
   "outputs": [
    {
     "name": "stdout",
     "output_type": "stream",
     "text": [
      "Time taken: --- 0.45648813247680664 seconds ---\n"
     ]
    }
   ],
   "source": [
    "start_time = time.time()\n",
    "mm_gii_calc = GlobalInstabilityIndex(r_cut=4)\n",
    "mm_gii = mm_gii_calc.featurize(benchmark_structure)[0]\n",
    "print(\"Time taken: --- %s seconds ---\" % (time.time() - start_time))"
   ]
  },
  {
   "cell_type": "code",
   "execution_count": 6,
   "id": "4d8539f2",
   "metadata": {},
   "outputs": [
    {
     "data": {
      "text/plain": [
       "0.22741774664473707"
      ]
     },
     "execution_count": 6,
     "metadata": {},
     "output_type": "execute_result"
    }
   ],
   "source": [
    "mm_gii"
   ]
  },
  {
   "cell_type": "markdown",
   "id": "de7487aa",
   "metadata": {},
   "source": [
    "## Compute GIICalculator GII"
   ]
  },
  {
   "cell_type": "code",
   "execution_count": 7,
   "id": "1a5350e1",
   "metadata": {},
   "outputs": [],
   "source": [
    "from gii_calculator import GIICalculator"
   ]
  },
  {
   "cell_type": "code",
   "execution_count": 8,
   "id": "3903a35c",
   "metadata": {},
   "outputs": [
    {
     "name": "stdout",
     "output_type": "stream",
     "text": [
      "Time taken: --- 0.10227823257446289 seconds ---\n"
     ]
    }
   ],
   "source": [
    "start_time = time.time()\n",
    "#gii_calc = GIICalculator(method='CrystalNN')\n",
    "gii_calc = GIICalculator(method='Cutoff', cutoff=4)\n",
    "gii = gii_calc.GII(benchmark_structure)\n",
    "print(\"Time taken: --- %s seconds ---\" % (time.time() - start_time))"
   ]
  },
  {
   "cell_type": "code",
   "execution_count": 9,
   "id": "94048b19",
   "metadata": {},
   "outputs": [
    {
     "data": {
      "text/plain": [
       "0.2274177466447371"
      ]
     },
     "execution_count": 9,
     "metadata": {},
     "output_type": "execute_result"
    }
   ],
   "source": [
    "gii"
   ]
  },
  {
   "cell_type": "code",
   "execution_count": 10,
   "id": "1ecf7ab8",
   "metadata": {},
   "outputs": [
    {
     "data": {
      "text/plain": [
       "{'Cation': [Species Na+, Species Nb5+],\n",
       " 'Anion': [Species O2-, Species O2-],\n",
       " 'R0': [1.803, 1.911],\n",
       " 'B': [0.37, 0.37]}"
      ]
     },
     "execution_count": 10,
     "metadata": {},
     "output_type": "execute_result"
    }
   ],
   "source": [
    "gii_calc.params_dict"
   ]
  },
  {
   "cell_type": "markdown",
   "id": "07db1e84",
   "metadata": {},
   "source": [
    "# Benchmark site_optimization.py"
   ]
  },
  {
   "cell_type": "markdown",
   "id": "5df1ff0d",
   "metadata": {},
   "source": [
    "## Perform the Site Optimization"
   ]
  },
  {
   "cell_type": "code",
   "execution_count": 12,
   "id": "bb96e688",
   "metadata": {},
   "outputs": [],
   "source": [
    "from site_optimization import SiteClusterOptimization"
   ]
  },
  {
   "cell_type": "code",
   "execution_count": 18,
   "id": "b1b4adc8",
   "metadata": {},
   "outputs": [],
   "source": [
    "sco = SiteClusterOptimization()"
   ]
  },
  {
   "cell_type": "code",
   "execution_count": 19,
   "id": "0aaf2c89",
   "metadata": {},
   "outputs": [
    {
     "name": "stdout",
     "output_type": "stream",
     "text": [
      "Time taken: --- 3.984825849533081 seconds ---\n"
     ]
    }
   ],
   "source": [
    "start_time = time.time()\n",
    "final_structure = sco.minimize_cluster_di_squared(benchmark_structure, site_ind=16) # pass the index of site to be optimized\n",
    "print(\"Time taken: --- %s seconds ---\" % (time.time() - start_time))"
   ]
  },
  {
   "cell_type": "code",
   "execution_count": 20,
   "id": "966465c3",
   "metadata": {},
   "outputs": [
    {
     "name": "stdout",
     "output_type": "stream",
     "text": [
      "Time taken: --- 0.14157724380493164 seconds ---\n"
     ]
    }
   ],
   "source": [
    "start_time = time.time()\n",
    "start_gii = gii_calc.GII(benchmark_structure)\n",
    "print(\"Time taken: --- %s seconds ---\" % (time.time() - start_time))"
   ]
  },
  {
   "cell_type": "code",
   "execution_count": 21,
   "id": "55a3a33b",
   "metadata": {},
   "outputs": [
    {
     "data": {
      "text/plain": [
       "0.22741774664473707"
      ]
     },
     "execution_count": 21,
     "metadata": {},
     "output_type": "execute_result"
    }
   ],
   "source": [
    "start_gii"
   ]
  },
  {
   "cell_type": "code",
   "execution_count": 22,
   "id": "c9406ddd",
   "metadata": {},
   "outputs": [
    {
     "name": "stdout",
     "output_type": "stream",
     "text": [
      "Time taken: --- 0.3294098377227783 seconds ---\n"
     ]
    }
   ],
   "source": [
    "start_time = time.time()\n",
    "final_gii = gii_calc.GII(final_structure, use_sym=False)\n",
    "print(\"Time taken: --- %s seconds ---\" % (time.time() - start_time))"
   ]
  },
  {
   "cell_type": "code",
   "execution_count": 23,
   "id": "5cdce0d5",
   "metadata": {},
   "outputs": [
    {
     "data": {
      "text/plain": [
       "0.2222068229123708"
      ]
     },
     "execution_count": 23,
     "metadata": {},
     "output_type": "execute_result"
    }
   ],
   "source": [
    "final_gii"
   ]
  },
  {
   "cell_type": "markdown",
   "id": "36d850e3",
   "metadata": {},
   "source": [
    "## Perform the Structure Optimization "
   ]
  },
  {
   "cell_type": "code",
   "execution_count": 12,
   "id": "91734c24",
   "metadata": {},
   "outputs": [],
   "source": [
    "from site_optimization import GIIMinimizer"
   ]
  },
  {
   "cell_type": "code",
   "execution_count": 25,
   "id": "8caa895b",
   "metadata": {},
   "outputs": [],
   "source": [
    "gii_minimizer = GIIMinimizer(benchmark_structure, convergence_tolerance=0.01)\n",
    "# All sites optimized until optimization of said site changes GII by < convergence_tolerance"
   ]
  },
  {
   "cell_type": "code",
   "execution_count": 26,
   "id": "ff42b5b2",
   "metadata": {},
   "outputs": [
    {
     "name": "stdout",
     "output_type": "stream",
     "text": [
      "Step 1 complete; 0.22741774664473727 --> 0.21685468242809414\n",
      "Step 2 complete; 0.21685468242809414 --> 0.21253671761744256\n",
      "Step 3 complete; 0.21253671761744256 --> 0.20319583095480914\n",
      "Step 4 complete; 0.20319583095480914 --> 0.19929305787714166\n",
      "Step 5 complete; 0.19929305787714166 --> 0.17406125117144214\n",
      "Step 6 complete; 0.17406125117144214 --> 0.1541425987472521\n",
      "Step 7 complete; 0.1541425987472521 --> 0.14735253314386446\n",
      "Step 8 complete; 0.14735253314386446 --> 0.12605574185146776\n",
      "Step 9 complete; 0.12605574185146776 --> 0.1172540398089425\n",
      "Step 10 complete; 0.1172540398089425 --> 0.11532954906197346\n",
      "Step 11 complete; 0.11532954906197346 --> 0.11098630269185894\n",
      "Step 12 complete; 0.11098630269185894 --> 0.10514996486333666\n",
      "Step 13 complete; 0.10514996486333666 --> 0.10514996486333666\n",
      "Step 14 complete; 0.10514996486333666 --> 0.10514996486333666\n",
      "Step 15 complete; 0.10514996486333666 --> 0.10512042010554813\n",
      "Step 16 complete; 0.10512042010554813 --> 0.1051185729262532\n",
      "Step 17 complete; 0.1051185729262532 --> 0.0986069988851831\n",
      "Step 18 complete; 0.0986069988851831 --> 0.09122660778338057\n",
      "Step 19 complete; 0.09122660778338057 --> 0.07878842921420805\n",
      "Step 20 complete; 0.07878842921420805 --> 0.072647054513046\n",
      "Step 21 complete; 0.072647054513046 --> 0.07136760157205188\n",
      "Step 22 complete; 0.07136760157205188 --> 0.07028418106471407\n",
      "Step 23 complete; 0.07028418106471407 --> 0.06761867338826875\n",
      "Step 24 complete; 0.06761867338826875 --> 0.06761867338826873\n",
      "Step 25 complete; 0.06761867338826873 --> 0.0657293991543679\n",
      "Convergence reached; delGII from all site optimizations < 0.01\n",
      "Total Time: --- 333.1009600162506 seconds ---\n"
     ]
    }
   ],
   "source": [
    "optimized_structure = gii_minimizer.gii_minimization(opt_method='max')"
   ]
  },
  {
   "cell_type": "code",
   "execution_count": 27,
   "id": "b4411b6d",
   "metadata": {},
   "outputs": [
    {
     "name": "stdout",
     "output_type": "stream",
     "text": [
      "Specie: Na+, delGII of optimization step: 0.006511574041070112\n",
      "Specie: Na+, delGII of optimization step: 0.007380391101802525\n",
      "Specie: Na+, delGII of optimization step: 0.0018892742339008256\n",
      "Specie: Na+, delGII of optimization step: 0.00614137470116205\n",
      "Specie: Nb5+, delGII of optimization step: 2.9544757788532716e-05\n",
      "Specie: Nb5+, delGII of optimization step: 0.0\n",
      "Specie: Nb5+, delGII of optimization step: 1.847179294925394e-06\n",
      "Specie: Nb5+, delGII of optimization step: 0.0\n",
      "Specie: O2-, delGII of optimization step: 0.008801702042525256\n",
      "Specie: O2-, delGII of optimization step: 0.001924490746969043\n",
      "Specie: O2-, delGII of optimization step: 0.004343246370114517\n",
      "Specie: O2-, delGII of optimization step: 0.0058363378285222756\n",
      "Specie: O2-, delGII of optimization step: 0.006790065603387657\n",
      "Specie: O2-, delGII of optimization step: 2.7755575615628914e-17\n",
      "Specie: O2-, delGII of optimization step: 0.002665507676445314\n",
      "Specie: O2-, delGII of optimization step: 0.0010834205073378123\n",
      "Specie: O2-, delGII of optimization step: 0.004317964810651581\n",
      "Specie: O2-, delGII of optimization step: 0.009340886662633413\n",
      "Specie: O2-, delGII of optimization step: 0.0012794529409941163\n",
      "Specie: O2-, delGII of optimization step: 0.003902773077667482\n"
     ]
    }
   ],
   "source": [
    "# Get the change in GII following optimization for each site in the structure, show that it is < convergence_tolerance\n",
    "for i in range(len(gii_minimizer.diffs)):\n",
    "    print('Specie: %s, delGII of optimization step: %s' % (optimized_structure[i].specie, gii_minimizer.diffs[i]))"
   ]
  },
  {
   "cell_type": "markdown",
   "id": "2a31514c",
   "metadata": {},
   "source": [
    "# Benchmark parameterization.py"
   ]
  },
  {
   "cell_type": "code",
   "execution_count": 11,
   "id": "28ea8fc7",
   "metadata": {},
   "outputs": [],
   "source": [
    "from parameterization import BVParamOptimization\n",
    "from parameterization import GeneralBVParamOptimizationOuterLoop\n",
    "from parameterization import CompositionSpecificBVParamOptimizationOuterLoop\n",
    "from pymatgen.core.periodic_table import Specie"
   ]
  },
  {
   "cell_type": "code",
   "execution_count": 12,
   "id": "47873f73",
   "metadata": {},
   "outputs": [],
   "source": [
    "### Only consider structures with 20 atoms or fewer to speed up parameterization test\n",
    "cmpd = 'NaNbO3'\n",
    "ss = nanbo3_dct[cmpd]['structures']\n",
    "short_inds = [i for i in range(len(ss)) if len(ss[i]) <= 20]\n",
    "\n",
    "short_structures = [ss[i] for i in short_inds]\n",
    "short_energies = [nanbo3_dct['NaNbO3']['energies'][i] for i in short_inds]\n",
    "short_dct = {cmpd: {'structures': short_structures, 'energies': short_energies}}\n",
    "\n",
    "cation = Specie('Nb', 5)\n",
    "anion = Specie('O', -2)\n",
    "cations_anions = [(Specie('Nb', 5), Specie('O', -2)), (Specie('Na', 1), Specie('O', -2))]\n",
    "options = {'gtol': 0.01, 'xtol': 0.01, 'barrier_tol': 0.01, 'disp': True, 'verbose': 0} # Changed from default"
   ]
  },
  {
   "cell_type": "code",
   "execution_count": null,
   "id": "70a296ae",
   "metadata": {},
   "outputs": [],
   "source": []
  },
  {
   "cell_type": "markdown",
   "id": "f62bad2a",
   "metadata": {},
   "source": [
    "## Parameterization that minimizes site discrepancy factor RMSD"
   ]
  },
  {
   "cell_type": "markdown",
   "metadata": {},
   "source": [
    "### Composition-Specific Parameterization - R0 Only"
   ]
  },
  {
   "cell_type": "code",
   "execution_count": 21,
   "metadata": {},
   "outputs": [],
   "source": [
    "rmsd_cs_parameterization = CompositionSpecificBVParamOptimizationOuterLoop(short_dct, [cmpd], gii_calc.params_dict)"
   ]
  },
  {
   "cell_type": "code",
   "execution_count": 24,
   "metadata": {},
   "outputs": [
    {
     "name": "stdout",
     "output_type": "stream",
     "text": [
      "[1.803, 1.911, 0.37, 0.37]\n",
      "-0.31195916177186295\n",
      "-0.3119593502018366\n",
      "-0.3119589033101902\n",
      "-0.3119594806739683\n",
      "-0.31195913918541185\n",
      "0.8212405346231583\n",
      "0.8212405261822375\n",
      "0.821240547078119\n",
      "0.821240531587492\n",
      "0.8212405272654437\n",
      "0.8631381992945217\n",
      "0.8631381589079326\n",
      "0.8631381817516841\n",
      "0.8631381472926805\n",
      "0.8631382050875429\n",
      "0.40813352456467644\n",
      "0.40813352813888426\n",
      "0.40813344984288635\n",
      "0.4081334260118472\n",
      "0.4081334549157807\n",
      "-0.874008557277266\n",
      "-0.8740086095741222\n",
      "-0.8740085970322924\n",
      "-0.8740086169572951\n",
      "-0.8740085829897546\n",
      "-0.2692865789989449\n",
      "-0.269287032919748\n",
      "-0.2692859160716786\n",
      "-0.2692872104927309\n",
      "-0.26928651173700974\n",
      "0.4245028214250016\n",
      "0.42450258472588964\n",
      "0.4245031076538636\n",
      "0.4245026177671756\n",
      "0.4245028254108253\n",
      "0.67176003686702\n",
      "0.6717597045194879\n",
      "0.6717602384728447\n",
      "0.6717596415298505\n",
      "0.6717600543019862\n",
      "-0.09990089517286946\n",
      "-0.09990145176888154\n",
      "-0.09989985821678538\n",
      "-0.09990163953683207\n",
      "-0.09990080107374408\n",
      "0.6016380189271193\n",
      "0.6016372125984608\n",
      "0.6016393615319608\n",
      "0.6016370882510353\n",
      "0.6016381316503918\n",
      "0.7531804060020103\n",
      "0.7531799509525676\n",
      "0.7531809215222649\n",
      "0.7531798658150932\n",
      "0.7531804585985695\n",
      "0.8180192361485804\n",
      "0.8180189568081606\n",
      "0.8180199672310327\n",
      "0.8180189177461614\n",
      "0.8180193084524998\n",
      "0.8411762213528591\n",
      "0.8411759789829216\n",
      "0.841176613803883\n",
      "0.8411759360930873\n",
      "0.8411762663922575\n",
      "0.843902230699267\n",
      "0.8439019928616557\n",
      "0.8439024197300414\n",
      "0.8439019420880012\n",
      "0.8439022595207617\n",
      "0.8438510615851532\n",
      "0.843850836692085\n",
      "0.8438510924682766\n",
      "0.8438507805725866\n",
      "0.8438510777464455\n",
      "0.8456367912549972\n",
      "0.8456365858218227\n",
      "0.8456367458515317\n",
      "0.8456365294939682\n",
      "0.8456368013243949\n",
      "0.8463934408791558\n",
      "0.8463932509447365\n",
      "0.8463933574043253\n",
      "0.8463931954363273\n",
      "0.8463934479640136\n",
      "0.8467034688702455\n",
      "0.8467032912837298\n",
      "0.8467033642808077\n",
      "0.8467032368688892\n",
      "0.8467034743652548\n",
      "0.8468527075426868\n",
      "0.8468525401280969\n",
      "0.8468525898199721\n",
      "0.8468524868563245\n",
      "0.8468527121184395\n",
      "0.8469396605844948\n",
      "0.8469395018498944\n",
      "0.8469395337489563\n",
      "0.8469394497103021\n",
      "0.8469396645987755\n",
      "0.8469997198080719\n",
      "0.8469995687037561\n",
      "0.8469995859795807\n",
      "0.8469995176769561\n",
      "0.8469997234750211\n",
      "0.8470463037706008\n",
      "0.8470461595466632\n",
      "0.8470461640537807\n",
      "0.8470461096208151\n",
      "0.8470463072310204\n",
      "0.8470847707166766\n",
      "0.8470846328525383\n",
      "0.8470846256488158\n",
      "0.8470845840311823\n",
      "0.84708477407126\n",
      "0.847116645257812\n",
      "0.8471165134463539\n",
      "0.8471164951109384\n",
      "0.847116465757719\n",
      "0.8471166485875856\n",
      "0.8471428160215864\n",
      "0.8471426901302341\n",
      "0.8471426609944024\n",
      "0.8471426436286009\n",
      "0.8471428194025881\n",
      "0.8471631683471347\n",
      "0.8471630483871293\n",
      "0.8471630086930095\n",
      "0.8471630031528421\n",
      "0.8471631718616649\n",
      "0.8471204600535887\n",
      "0.8471203472676427\n",
      "0.8471202971536187\n",
      "0.8471203038897529\n",
      "0.8471204642316343\n",
      "0.8470872022689486\n",
      "0.8470870969062054\n",
      "0.8470870347946754\n",
      "0.8470870556911625\n",
      "0.8470872074311045\n",
      "0.8470301150786526\n",
      "0.8470300171054614\n",
      "0.8470299399838614\n",
      "0.847029978289316\n",
      "0.8470301214627347\n",
      "0.8469549614867646\n",
      "0.8469548711599387\n",
      "0.8469547765515293\n",
      "0.8469548349763822\n",
      "0.846954969257526\n",
      "0.8469521693548114\n",
      "0.8469520868876155\n",
      "0.8469519732401078\n",
      "0.8469520533979742\n",
      "0.8469521784238094\n",
      "0.8472675404393031\n",
      "0.8472674656402822\n",
      "0.8472673354553761\n",
      "0.847267434291455\n",
      "0.8472675500147993\n",
      "0.8472677287218748\n",
      "0.8472676612168809\n",
      "0.8472675148089108\n",
      "0.8472676319098178\n",
      "0.8472677387497589\n",
      "0.8473436817712193\n",
      "0.8473436190521294\n",
      "0.8473434306080108\n",
      "0.8473435915287021\n",
      "0.8473436903764908\n",
      "0.4620047794321952\n",
      "0.4620047563624523\n",
      "0.4620045591681755\n",
      "0.46200472355226563\n",
      "0.4620048904989146\n",
      "0.3349539501141994\n",
      "0.334953952599901\n",
      "0.3349546309527238\n",
      "0.33495389123588015\n",
      "0.334953961424429\n",
      "0.8685211785419833\n",
      "0.8685211385840703\n",
      "0.8685210719918015\n",
      "0.8685211219887919\n",
      "0.8685212016181204\n",
      "0.858444407338075\n",
      "0.8584443653744152\n",
      "0.8584443103598718\n",
      "0.858444347912777\n",
      "0.8584444315218694\n",
      "0.9066772937959072\n",
      "0.906677274288709\n",
      "0.9066772355685959\n",
      "0.9066772649106405\n",
      "0.9066773081646229\n",
      "0.89111539770873\n",
      "0.8911153757138337\n",
      "0.8911153469969222\n",
      "0.8911153652499959\n",
      "0.8911154134088091\n",
      "0.8473436817712193\n",
      "0.8473436190521294\n",
      "0.8473434306080108\n",
      "0.8473435915287021\n",
      "0.8473436903764908\n",
      "0.7453808551298213\n",
      "0.7453808336363844\n",
      "0.7453808797630319\n",
      "0.7453808077003576\n",
      "0.7453809232120514\n",
      "0.658057437038135\n",
      "0.6580574174977151\n",
      "0.6580581860905217\n",
      "0.6580573635406958\n",
      "0.6580574984866612\n",
      "0.8369931250670066\n",
      "0.8369930896236495\n",
      "0.8369931043715021\n",
      "0.8369930704928721\n",
      "0.8369931658303548\n",
      "0.8382715691071336\n",
      "0.8382715451179243\n",
      "0.8382716746480641\n",
      "0.8382715278441502\n",
      "0.8382716180518524\n",
      "0.8594577434141505\n",
      "0.8594576811528748\n",
      "0.8594576239070058\n",
      "0.8594576592312633\n",
      "0.8594577637213547\n",
      "0.8523167189271155\n",
      "0.8523166576358878\n",
      "0.8523166195600003\n",
      "0.8523166351902132\n",
      "0.8523167406668757\n",
      "0.8473436817712193\n",
      "0.8473436190521294\n",
      "0.8473434306080108\n",
      "0.8473435915287021\n",
      "0.8473436903764908\n",
      "0.8537417325520755\n",
      "0.8537416581812652\n",
      "0.8537415712642545\n",
      "0.8537416338052342\n",
      "0.8537417509398444\n",
      "0.8493039874344104\n",
      "0.8493039142369598\n",
      "0.8493038600457001\n",
      "0.8493038894586029\n",
      "0.8493040077047125\n",
      "0.8517484271645341\n",
      "0.8517483450487788\n",
      "0.8517482991056338\n",
      "0.8517483184932764\n",
      "0.8517484444762333\n",
      "0.8490623538686473\n",
      "0.8490622775833748\n",
      "0.8490622618558114\n",
      "0.8490622511228876\n",
      "0.8490623734108149\n",
      "0.8742832661544349\n",
      "0.8742832203914463\n",
      "0.8742831756609657\n",
      "0.8742832028122156\n",
      "0.8742832851908051\n",
      "0.8616369988649208\n",
      "0.861636951727909\n",
      "0.8616369205646311\n",
      "0.8616369331769045\n",
      "0.8616370194847367\n",
      "`xtol` termination condition is satisfied.\n",
      "Number of iterations: 45, function evaluations: 270, CG iterations: 100, optimality: 2.15e+00, constraint violation: 0.00e+00, execution time: 4e+02 s.\n",
      "All parameters optimized\n"
     ]
    }
   ],
   "source": [
    "rmsd_cs_parameterization.parameter_optimization(obj_func='gii_gs', parameterize='both')"
   ]
  },
  {
   "cell_type": "code",
   "execution_count": 25,
   "metadata": {},
   "outputs": [
    {
     "data": {
      "text/plain": [
       "({'NaNbO3': {'Cation': [Species Na+, Species Nb5+],\n",
       "   'Anion': [Species O2-, Species O2-],\n",
       "   'R0': [1.698, 1.961],\n",
       "   'B': [0.419, 0.347]}},\n",
       " {'Cation': [Species Na+, Species Nb5+],\n",
       "  'Anion': [Species O2-, Species O2-],\n",
       "  'R0': [1.803, 1.911],\n",
       "  'B': [0.37, 0.37]})"
      ]
     },
     "execution_count": 25,
     "metadata": {},
     "output_type": "execute_result"
    }
   ],
   "source": [
    "rmsd_cs_parameterization.updated_params_by_composition, rmsd_cs_parameterization.starting_params"
   ]
  },
  {
   "cell_type": "markdown",
   "id": "867471c3",
   "metadata": {},
   "source": [
    "### Single Parameter Optimization"
   ]
  },
  {
   "cell_type": "code",
   "execution_count": 21,
   "metadata": {},
   "outputs": [
    {
     "data": {
      "text/plain": [
       "[Structure Summary\n",
       " Lattice\n",
       "     abc : 5.581053514769859 5.581053514769859 7.944256\n",
       "  angles : 90.0 90.0 90.60105371470894\n",
       "  volume : 247.43532826035178\n",
       "       A : 3.925647 -3.967046 0.0\n",
       "       B : 3.925647 3.967046 0.0\n",
       "       C : 0.0 0.0 7.944256\n",
       " PeriodicSite: Na+ (3.9256, 0.0864, 5.9582) [0.4891, 0.5109, 0.7500]\n",
       " PeriodicSite: Na+ (3.9256, -0.0864, 1.9861) [0.5109, 0.4891, 0.2500]\n",
       " PeriodicSite: Na+ (3.9256, -3.9393, 5.9582) [0.9965, 0.0035, 0.7500]\n",
       " PeriodicSite: Na+ (3.9256, 3.9393, 1.9861) [0.0035, 0.9965, 0.2500]\n",
       " PeriodicSite: Nb5+ (1.9628, 1.9835, 0.0000) [0.0000, 0.5000, 0.0000]\n",
       " PeriodicSite: Nb5+ (1.9628, 1.9835, 3.9721) [0.0000, 0.5000, 0.5000]\n",
       " PeriodicSite: Nb5+ (1.9628, -1.9835, 0.0000) [0.5000, 0.0000, 0.0000]\n",
       " PeriodicSite: Nb5+ (1.9628, -1.9835, 3.9721) [0.5000, 0.0000, 0.5000]\n",
       " PeriodicSite: O2- (5.5732, -1.9318, 1.9861) [0.9533, 0.4664, 0.2500]\n",
       " PeriodicSite: O2- (2.2781, 1.9318, 5.9582) [0.0467, 0.5336, 0.7500]\n",
       " PeriodicSite: O2- (5.5732, 1.9318, 5.9582) [0.4664, 0.9533, 0.7500]\n",
       " PeriodicSite: O2- (2.2781, -1.9318, 1.9861) [0.5336, 0.0467, 0.2500]\n",
       " PeriodicSite: O2- (3.9256, 1.6572, 0.3117) [0.2911, 0.7089, 0.0392]\n",
       " PeriodicSite: O2- (3.9256, -1.6572, 4.2838) [0.7089, 0.2911, 0.5392]\n",
       " PeriodicSite: O2- (3.9256, -1.6572, 7.6326) [0.7089, 0.2911, 0.9608]\n",
       " PeriodicSite: O2- (3.9256, 1.6572, 3.6605) [0.2911, 0.7089, 0.4608]\n",
       " PeriodicSite: O2- (1.6255, 0.0000, 3.9721) [0.2070, 0.2070, 0.5000]\n",
       " PeriodicSite: O2- (6.2258, 0.0000, 0.0000) [0.7930, 0.7930, 0.0000]\n",
       " PeriodicSite: O2- (6.2258, 0.0000, 3.9721) [0.7930, 0.7930, 0.5000]\n",
       " PeriodicSite: O2- (1.6255, 0.0000, 0.0000) [0.2070, 0.2070, 0.0000],\n",
       " Structure Summary\n",
       " Lattice\n",
       "     abc : 5.678939500000067 5.678939500000067 5.678939037968008\n",
       "  angles : 58.78131819524892 58.78131819524892 58.78131634015853\n",
       "  volume : 125.9004122361071\n",
       "       A : 4.948025 -2.787006 0.0\n",
       "       B : 4.948025 2.787006 0.0\n",
       "       C : 3.378226 0.0 4.564859\n",
       " PeriodicSite: Na+ (9.6300, 0.0000, 3.3116) [0.7255, 0.7255, 0.7255]\n",
       " PeriodicSite: Na+ (2.9929, 0.0000, 1.0292) [0.2255, 0.2255, 0.2255]\n",
       " PeriodicSite: Nb5+ (13.0906, 0.0000, 4.5017) [0.9862, 0.9862, 0.9862]\n",
       " PeriodicSite: Nb5+ (6.4535, 0.0000, 2.2193) [0.4862, 0.4862, 0.4862]\n",
       " PeriodicSite: O2- (5.0468, 0.3814, 3.4520) [0.1834, 0.3203, 0.7562]\n",
       " PeriodicSite: O2- (5.9459, 1.2150, 0.8372) [0.3203, 0.7562, 0.1834]\n",
       " PeriodicSite: O2- (5.7311, -1.5964, 1.4619) [0.7562, 0.1834, 0.3203]\n",
       " PeriodicSite: O2- (7.4202, -1.1906, 3.7443) [0.6834, 0.2562, 0.8203]\n",
       " PeriodicSite: O2- (8.3057, -0.3814, 1.1695) [0.8203, 0.6834, 0.2562]\n",
       " PeriodicSite: O2- (7.6351, 1.5720, 3.1197) [0.2562, 0.8203, 0.6834],\n",
       " Structure Summary\n",
       " Lattice\n",
       "     abc : 4.040949341256953 4.040949341256953 15.956757\n",
       "  angles : 90.0 90.0 90.47144013325793\n",
       "  volume : 260.55339819617905\n",
       "       A : 2.845603 -2.869114 0.0\n",
       "       B : 2.845603 2.869114 0.0\n",
       "       C : 0.0 0.0 15.956757\n",
       " PeriodicSite: Na+ (2.8456, 0.2655, 11.9676) [0.4537, 0.5463, 0.7500]\n",
       " PeriodicSite: Na+ (2.8456, -0.2655, 3.9892) [0.5463, 0.4537, 0.2500]\n",
       " PeriodicSite: Na+ (2.8456, 0.0000, 7.9784) [0.5000, 0.5000, 0.5000]\n",
       " PeriodicSite: Na+ (2.8456, 0.0000, 0.0000) [0.5000, 0.5000, 0.0000]\n",
       " PeriodicSite: Nb5+ (2.8456, 2.7240, 1.9971) [0.0253, 0.9747, 0.1252]\n",
       " PeriodicSite: Nb5+ (2.8456, 2.7240, 5.9813) [0.0253, 0.9747, 0.3748]\n",
       " PeriodicSite: Nb5+ (2.8456, -2.7240, 13.9597) [0.9747, 0.0253, 0.8748]\n",
       " PeriodicSite: Nb5+ (2.8456, -2.7240, 9.9755) [0.9747, 0.0253, 0.6252]\n",
       " PeriodicSite: O2- (2.8456, -2.7881, 3.9892) [0.9859, 0.0141, 0.2500]\n",
       " PeriodicSite: O2- (2.8456, 2.7881, 11.9676) [0.0141, 0.9859, 0.7500]\n",
       " PeriodicSite: O2- (4.2479, -1.3902, 5.9833) [0.9887, 0.5041, 0.3750]\n",
       " PeriodicSite: O2- (0.0000, 0.0000, 7.9784) [0.0000, 0.0000, 0.5000]\n",
       " PeriodicSite: O2- (1.4433, -1.3902, 5.9833) [0.4959, 0.0113, 0.3750]\n",
       " PeriodicSite: O2- (1.4433, 1.3902, 13.9617) [0.0113, 0.4959, 0.8750]\n",
       " PeriodicSite: O2- (1.4433, 1.3902, 9.9735) [0.0113, 0.4959, 0.6250]\n",
       " PeriodicSite: O2- (1.4433, -1.3902, 1.9951) [0.4959, 0.0113, 0.1250]\n",
       " PeriodicSite: O2- (4.2479, 1.3902, 9.9735) [0.5041, 0.9887, 0.6250]\n",
       " PeriodicSite: O2- (4.2479, 1.3902, 13.9617) [0.5041, 0.9887, 0.8750]\n",
       " PeriodicSite: O2- (0.0000, 0.0000, 0.0000) [0.0000, 0.0000, 0.0000]\n",
       " PeriodicSite: O2- (4.2479, -1.3902, 1.9951) [0.9887, 0.5041, 0.1250],\n",
       " Structure Summary\n",
       " Lattice\n",
       "     abc : 5.621033 5.69808 7.843404\n",
       "  angles : 90.0 90.0 90.0\n",
       "  volume : 251.21713746027703\n",
       "       A : 5.621033 0.0 0.0\n",
       "       B : 0.0 5.69808 0.0\n",
       "       C : 0.0 0.0 7.843404\n",
       " PeriodicSite: Na+ (4.2681, 1.4282, 3.9217) [0.7593, 0.2507, 0.5000]\n",
       " PeriodicSite: Na+ (1.3530, 4.2773, 3.9217) [0.2407, 0.7507, 0.5000]\n",
       " PeriodicSite: Na+ (4.3026, 1.5463, 0.0000) [0.7654, 0.2714, 0.0000]\n",
       " PeriodicSite: Na+ (1.3184, 4.3953, 0.0000) [0.2346, 0.7714, 0.0000]\n",
       " PeriodicSite: Nb5+ (4.1768, 4.3801, 1.9650) [0.7431, 0.7687, 0.2505]\n",
       " PeriodicSite: Nb5+ (1.4443, 1.5310, 5.8784) [0.2569, 0.2687, 0.7495]\n",
       " PeriodicSite: Nb5+ (1.4443, 1.5310, 1.9650) [0.2569, 0.2687, 0.2505]\n",
       " PeriodicSite: Nb5+ (4.1768, 4.3801, 5.8784) [0.7431, 0.7687, 0.7495]\n",
       " PeriodicSite: O2- (5.3919, 2.9478, 5.6259) [0.9592, 0.5173, 0.7173]\n",
       " PeriodicSite: O2- (0.2291, 0.0987, 2.2175) [0.0408, 0.0173, 0.2827]\n",
       " PeriodicSite: O2- (0.2291, 0.0987, 5.6259) [0.0408, 0.0173, 0.7173]\n",
       " PeriodicSite: O2- (5.3919, 2.9478, 2.2175) [0.9592, 0.5173, 0.2827]\n",
       " PeriodicSite: O2- (3.0294, 0.5239, 6.1213) [0.5389, 0.0919, 0.7804]\n",
       " PeriodicSite: O2- (2.5917, 3.3729, 1.7221) [0.4611, 0.5919, 0.2196]\n",
       " PeriodicSite: O2- (2.5917, 3.3729, 6.1213) [0.4611, 0.5919, 0.7804]\n",
       " PeriodicSite: O2- (3.0294, 0.5239, 1.7221) [0.5389, 0.0919, 0.2196]\n",
       " PeriodicSite: O2- (1.0575, 1.7327, 0.0000) [0.1881, 0.3041, 0.0000]\n",
       " PeriodicSite: O2- (4.5635, 4.5818, 0.0000) [0.8119, 0.8041, 0.0000]\n",
       " PeriodicSite: O2- (1.7571, 1.8460, 3.9217) [0.3126, 0.3240, 0.5000]\n",
       " PeriodicSite: O2- (3.8640, 4.6951, 3.9217) [0.6874, 0.8240, 0.5000],\n",
       " Structure Summary\n",
       " Lattice\n",
       "     abc : 5.573516 5.573516 4.01795\n",
       "  angles : 90.0 90.0 90.0\n",
       "  volume : 124.81392265583447\n",
       "       A : 5.573516 0.0 0.0\n",
       "       B : 0.0 5.573516 0.0\n",
       "       C : 0.0 0.0 4.01795\n",
       " PeriodicSite: Na+ (0.0000, 2.7868, 2.0090) [0.0000, 0.5000, 0.5000]\n",
       " PeriodicSite: Na+ (2.7868, 0.0000, 2.0090) [0.5000, 0.0000, 0.5000]\n",
       " PeriodicSite: Nb5+ (2.7868, 2.7868, 0.0000) [0.5000, 0.5000, 0.0000]\n",
       " PeriodicSite: Nb5+ (0.0000, 0.0000, 0.0000) [0.0000, 0.0000, 0.0000]\n",
       " PeriodicSite: O2- (4.4649, 3.8953, 0.0000) [0.8011, 0.6989, 0.0000]\n",
       " PeriodicSite: O2- (3.8953, 1.1086, 0.0000) [0.6989, 0.1989, 0.0000]\n",
       " PeriodicSite: O2- (1.6782, 4.4649, 0.0000) [0.3011, 0.8011, 0.0000]\n",
       " PeriodicSite: O2- (1.1086, 1.6782, 0.0000) [0.1989, 0.3011, 0.0000]\n",
       " PeriodicSite: O2- (0.0000, 0.0000, 2.0090) [0.0000, 0.0000, 0.5000]\n",
       " PeriodicSite: O2- (2.7868, 2.7868, 2.0090) [0.5000, 0.5000, 0.5000],\n",
       " Structure Summary\n",
       " Lattice\n",
       "     abc : 4.009335 4.009335 4.009335\n",
       "  angles : 90.0 90.0 90.0\n",
       "  volume : 64.44912652017267\n",
       "       A : 4.009335 0.0 0.0\n",
       "       B : 0.0 4.009335 0.0\n",
       "       C : 0.0 0.0 4.009335\n",
       " PeriodicSite: Na+ (0.0000, 0.0000, 0.0000) [0.0000, 0.0000, 0.0000]\n",
       " PeriodicSite: Nb5+ (2.0047, 2.0047, 2.0047) [0.5000, 0.5000, 0.5000]\n",
       " PeriodicSite: O2- (2.0047, 2.0047, 0.0000) [0.5000, 0.5000, 0.0000]\n",
       " PeriodicSite: O2- (0.0000, 2.0047, 2.0047) [0.0000, 0.5000, 0.5000]\n",
       " PeriodicSite: O2- (2.0047, 0.0000, 2.0047) [0.5000, 0.0000, 0.5000],\n",
       " Structure Summary\n",
       " Lattice\n",
       "     abc : 5.562819 5.611539 7.90948\n",
       "  angles : 90.0 90.0 90.0\n",
       "  volume : 246.90213602096873\n",
       "       A : 5.562819 0.0 0.0\n",
       "       B : 0.0 5.611539 0.0\n",
       "       C : 0.0 0.0 7.90948\n",
       " PeriodicSite: Na+ (2.7769, 5.5242, 1.9774) [0.4992, 0.9844, 0.2500]\n",
       " PeriodicSite: Na+ (0.0045, 2.7184, 1.9774) [0.0008, 0.4844, 0.2500]\n",
       " PeriodicSite: Na+ (2.7859, 0.0874, 5.9321) [0.5008, 0.0156, 0.7500]\n",
       " PeriodicSite: Na+ (5.5583, 2.8931, 5.9321) [0.9992, 0.5156, 0.7500]\n",
       " PeriodicSite: Nb5+ (2.7814, 2.8058, 0.0000) [0.5000, 0.5000, 0.0000]\n",
       " PeriodicSite: Nb5+ (0.0000, 0.0000, 3.9547) [0.0000, 0.0000, 0.5000]\n",
       " PeriodicSite: Nb5+ (2.7814, 2.8058, 3.9547) [0.5000, 0.5000, 0.5000]\n",
       " PeriodicSite: Nb5+ (0.0000, 0.0000, 0.0000) [0.0000, 0.0000, 0.0000]\n",
       " PeriodicSite: O2- (5.2087, 0.0638, 1.9774) [0.9363, 0.0114, 0.2500]\n",
       " PeriodicSite: O2- (3.1355, 2.8696, 1.9774) [0.5637, 0.5114, 0.2500]\n",
       " PeriodicSite: O2- (0.3541, 5.5477, 5.9321) [0.0637, 0.9886, 0.7500]\n",
       " PeriodicSite: O2- (2.4273, 2.7420, 5.9321) [0.4363, 0.4886, 0.7500]\n",
       " PeriodicSite: O2- (1.1882, 4.0110, 0.2576) [0.2136, 0.7148, 0.0326]\n",
       " PeriodicSite: O2- (1.5933, 1.2053, 3.6971) [0.2864, 0.2148, 0.4674]\n",
       " PeriodicSite: O2- (4.3747, 1.6005, 4.2124) [0.7864, 0.2852, 0.5326]\n",
       " PeriodicSite: O2- (3.9696, 4.4063, 7.6518) [0.7136, 0.7852, 0.9674]\n",
       " PeriodicSite: O2- (4.3747, 1.6005, 7.6518) [0.7864, 0.2852, 0.9674]\n",
       " PeriodicSite: O2- (3.9696, 4.4063, 4.2124) [0.7136, 0.7852, 0.5326]\n",
       " PeriodicSite: O2- (1.1882, 4.0110, 3.6971) [0.2136, 0.7148, 0.4674]\n",
       " PeriodicSite: O2- (1.5933, 1.2053, 0.2576) [0.2864, 0.2148, 0.0326],\n",
       " Structure Summary\n",
       " Lattice\n",
       "     abc : 5.615271 5.642961 7.875695\n",
       "  angles : 90.0 90.0 90.0\n",
       "  volume : 249.55521994717304\n",
       "       A : 5.615271 0.0 0.0\n",
       "       B : 0.0 5.642961 0.0\n",
       "       C : 0.0 0.0 7.875695\n",
       " PeriodicSite: Na+ (2.7897, 1.4162, 0.0000) [0.4968, 0.2510, 0.0000]\n",
       " PeriodicSite: Na+ (5.5973, 4.2267, 3.9378) [0.9968, 0.7490, 0.5000]\n",
       " PeriodicSite: Na+ (2.7626, 1.2755, 3.9378) [0.4920, 0.2260, 0.5000]\n",
       " PeriodicSite: Na+ (5.5703, 4.3675, 0.0000) [0.9920, 0.7740, 0.0000]\n",
       " PeriodicSite: Nb5+ (2.7154, 4.2013, 1.9963) [0.4836, 0.7445, 0.2535]\n",
       " PeriodicSite: Nb5+ (2.7154, 4.2013, 5.8794) [0.4836, 0.7445, 0.7465]\n",
       " PeriodicSite: Nb5+ (5.5230, 1.4416, 1.9416) [0.9836, 0.2555, 0.2465]\n",
       " PeriodicSite: Nb5+ (5.5230, 1.4416, 5.9341) [0.9836, 0.2555, 0.7535]\n",
       " PeriodicSite: O2- (0.4252, 1.3457, 0.0000) [0.0757, 0.2385, 0.0000]\n",
       " PeriodicSite: O2- (3.2328, 4.2973, 3.9378) [0.5757, 0.7615, 0.5000]\n",
       " PeriodicSite: O2- (5.3296, 1.4507, 3.9378) [0.9491, 0.2571, 0.5000]\n",
       " PeriodicSite: O2- (2.5220, 4.1922, 0.0000) [0.4491, 0.7429, 0.0000]\n",
       " PeriodicSite: O2- (4.4676, 3.0199, 1.7164) [0.7956, 0.5352, 0.2179]\n",
       " PeriodicSite: O2- (4.4676, 3.0199, 6.1593) [0.7956, 0.5352, 0.7821]\n",
       " PeriodicSite: O2- (1.6600, 2.6230, 2.2214) [0.2956, 0.4648, 0.2821]\n",
       " PeriodicSite: O2- (1.6600, 2.6230, 5.6543) [0.2956, 0.4648, 0.7179]\n",
       " PeriodicSite: O2- (1.3094, 5.4732, 2.2288) [0.2332, 0.9699, 0.2830]\n",
       " PeriodicSite: O2- (1.3094, 5.4732, 5.6469) [0.2332, 0.9699, 0.7170]\n",
       " PeriodicSite: O2- (4.1171, 0.1697, 1.7090) [0.7332, 0.0301, 0.2170]\n",
       " PeriodicSite: O2- (4.1171, 0.1697, 6.1667) [0.7332, 0.0301, 0.7830],\n",
       " Structure Summary\n",
       " Lattice\n",
       "     abc : 6.163044557099519 6.163044557099519 6.163044810403459\n",
       "  angles : 52.225303804607705 52.225303804607705 52.225308519642574\n",
       "  volume : 135.29101509933227\n",
       "       A : 5.533985 -2.712587 0.0\n",
       "       B : 5.533985 2.712587 0.0\n",
       "       C : 4.20436 0.0 4.506271\n",
       " PeriodicSite: Na+ (9.8009, 0.0000, 2.8919) [0.6417, 0.6417, 0.6417]\n",
       " PeriodicSite: Na+ (5.4714, 0.0000, 1.6144) [0.3583, 0.3583, 0.3583]\n",
       " PeriodicSite: Nb5+ (13.0084, 0.0000, 3.8383) [0.8518, 0.8518, 0.8518]\n",
       " PeriodicSite: Nb5+ (2.2639, 0.0000, 0.6680) [0.1482, 0.1482, 0.1482]\n",
       " PeriodicSite: O2- (6.5213, -2.1248, 1.9783) [0.8141, 0.0308, 0.4390]\n",
       " PeriodicSite: O2- (7.0641, 1.0175, 0.1387) [0.4390, 0.8141, 0.0308]\n",
       " PeriodicSite: O2- (6.0226, 1.1073, 3.6686) [0.0308, 0.4390, 0.8141]\n",
       " PeriodicSite: O2- (8.7510, 2.1248, 2.5280) [0.1859, 0.9692, 0.5610]\n",
       " PeriodicSite: O2- (8.2082, -1.0175, 4.3675) [0.5610, 0.1859, 0.9692]\n",
       " PeriodicSite: O2- (9.2497, -1.1073, 0.8377) [0.9692, 0.5610, 0.1859]]"
      ]
     },
     "execution_count": 21,
     "metadata": {},
     "output_type": "execute_result"
    }
   ],
   "source": [
    "short_structures"
   ]
  },
  {
   "cell_type": "code",
   "execution_count": 23,
   "id": "72ad1854",
   "metadata": {},
   "outputs": [],
   "source": [
    "single_parameterization_rmsd = BVParamOptimization([short_structures], [short_energies], \n",
    "                                                          gii_calc.params_dict, [cation], [anion], \n",
    "                                                          obj_func='di2_rmsd', options=options)"
   ]
  },
  {
   "cell_type": "code",
   "execution_count": 24,
   "id": "902d4f85",
   "metadata": {},
   "outputs": [
    {
     "name": "stdout",
     "output_type": "stream",
     "text": [
      "0.43217634981643743\n",
      "0.43217600192001077\n",
      "63.21939147166733\n",
      "63.219399469371446\n",
      "0.4140825213410144\n",
      "0.4140829458064924\n",
      "0.6421104554175449\n",
      "0.6421101245876905\n",
      "0.2074310114107347\n",
      "0.20743065705585592\n",
      "0.3224547405068849\n",
      "0.3224551528855676\n",
      "0.07429075164423778\n",
      "0.07429094301606244\n",
      "0.20907175831980218\n",
      "0.20907140381564515\n",
      "0.08023512139559828\n",
      "0.08023489434192736\n",
      "`xtol` termination condition is satisfied.\n",
      "Number of iterations: 9, function evaluations: 18, CG iterations: 8, optimality: 6.60e+00, constraint violation: 0.00e+00, execution time: 1e+01 s.\n"
     ]
    }
   ],
   "source": [
    "rmsd_optimized_param_dict = single_parameterization_rmsd.param_optimizer()"
   ]
  },
  {
   "cell_type": "code",
   "execution_count": 25,
   "id": "ae45b933",
   "metadata": {},
   "outputs": [
    {
     "data": {
      "text/plain": [
       "({'Cation': [Species Na+, Species Nb5+],\n",
       "  'Anion': [Species O2-, Species O2-],\n",
       "  'R0': [1.803, 1.947],\n",
       "  'B': [0.37, 0.37]},\n",
       " {'Cation': [Species Na+, Species Nb5+],\n",
       "  'Anion': [Species O2-, Species O2-],\n",
       "  'R0': [1.803, 1.911],\n",
       "  'B': [0.37, 0.37]})"
      ]
     },
     "execution_count": 25,
     "metadata": {},
     "output_type": "execute_result"
    }
   ],
   "source": [
    "rmsd_optimized_param_dict, gii_calc.params_dict"
   ]
  },
  {
   "cell_type": "markdown",
   "id": "d41372ac",
   "metadata": {},
   "source": [
    "### Multiple Parameter Optimization"
   ]
  },
  {
   "cell_type": "code",
   "execution_count": 26,
   "id": "e5a580f9",
   "metadata": {},
   "outputs": [
    {
     "name": "stdout",
     "output_type": "stream",
     "text": [
      "(Species Nb5+, Species O2-) 1\n",
      "1.911 0.37\n",
      "0.43217634981643743\n",
      "0.43217600192001077\n",
      "63.21939147166733\n",
      "63.219399469371446\n",
      "0.4140825213410144\n",
      "0.4140829458064924\n",
      "0.6421104554175449\n",
      "0.6421101245876905\n",
      "0.2074310114107347\n",
      "0.20743065705585592\n",
      "0.3224547405068849\n",
      "0.3224551528855676\n",
      "0.07429075164423778\n",
      "0.07429094301606244\n",
      "0.20907175831980218\n",
      "0.20907140381564515\n",
      "0.08023512139559828\n",
      "0.08023489434192736\n",
      "`xtol` termination condition is satisfied.\n",
      "Number of iterations: 9, function evaluations: 18, CG iterations: 8, optimality: 6.60e+00, constraint violation: 0.00e+00, execution time: 1e+01 s.\n",
      "1.947 0.37\n",
      "(Species Na+, Species O2-) 1\n",
      "1.803 0.37\n",
      "0.11400219061832283\n",
      "0.11400217674652065\n",
      "2.929394163023829\n",
      "2.9293945290047945\n",
      "0.11964710051488511\n",
      "0.11964712771839521\n",
      "0.11232720162549459\n",
      "0.11232720889891686\n",
      "0.11177575186306263\n",
      "0.11177575169816566\n",
      "0.11177546249795854\n",
      "0.11177546249600917\n",
      "`gtol` termination condition is satisfied.\n",
      "Number of iterations: 6, function evaluations: 12, CG iterations: 5, optimality: 7.22e-05, constraint violation: 0.00e+00, execution time: 1.6e+01 s.\n",
      "1.811 0.37\n",
      "(Species Nb5+, Species O2-) 2\n",
      "1.947 0.37\n",
      "0.0762893200727646\n",
      "0.07628952712092826\n",
      "4.662259186515146\n",
      "4.662259172913262\n",
      "3.695459135019512\n",
      "3.695459058999646\n",
      "2.122297432765\n",
      "2.1222972311908608\n",
      "0.950384173453677\n",
      "0.9503838696610815\n",
      "0.3731246550152388\n",
      "0.3731243030768847\n",
      "0.15166428294930487\n",
      "0.1516639407745259\n",
      "`xtol` termination condition is satisfied.\n",
      "Number of iterations: 7, function evaluations: 14, CG iterations: 6, optimality: 7.14e+00, constraint violation: 0.00e+00, execution time:  7.7 s.\n",
      "1.947 0.37\n",
      "Convergence Reached\n"
     ]
    }
   ],
   "source": [
    "rmsd_pol = GeneralBVParamOptimizationOuterLoop(short_dct, cations_anions, gii_calc.params_dict)\n",
    "rmsd_pol.parameter_optimization(obj_func='di2_rmsd', init_steps=1)"
   ]
  },
  {
   "cell_type": "code",
   "execution_count": 29,
   "id": "a21afba0",
   "metadata": {},
   "outputs": [
    {
     "data": {
      "text/plain": [
       "({'Cation': [Species Na+, Species Nb5+],\n",
       "  'Anion': [Species O2-, Species O2-],\n",
       "  'R0': [1.803, 1.911],\n",
       "  'B': [0.37, 0.37]},\n",
       " {'Cation': [Species Na+, Species Nb5+],\n",
       "  'Anion': [Species O2-, Species O2-],\n",
       "  'R0': [1.811, 1.947],\n",
       "  'B': [0.37, 0.37]})"
      ]
     },
     "execution_count": 29,
     "metadata": {},
     "output_type": "execute_result"
    }
   ],
   "source": [
    "rmsd_pol.starting_params, rmsd_pol.updated_params"
   ]
  },
  {
   "cell_type": "markdown",
   "id": "6e83f666",
   "metadata": {},
   "source": [
    "## Parameterization considering GII-DFT Energetics Relationship"
   ]
  },
  {
   "cell_type": "markdown",
   "metadata": {},
   "source": [
    "### Composition-Specific Parameterization"
   ]
  },
  {
   "cell_type": "code",
   "execution_count": 31,
   "metadata": {},
   "outputs": [],
   "source": [
    "gs_cs_parameterization = CompositionSpecificBVParamOptimizationOuterLoop(short_dct, [cmpd], gii_calc.params_dict)"
   ]
  },
  {
   "cell_type": "code",
   "execution_count": 32,
   "metadata": {},
   "outputs": [
    {
     "name": "stdout",
     "output_type": "stream",
     "text": [
      "[1.803, 1.911, 0.37, 0.37]\n",
      "-0.31195916177186295\n",
      "-0.3119593502018366\n",
      "-0.3119589033101902\n",
      "-0.3119594806739683\n",
      "-0.31195913918541185\n",
      "0.8212405346231583\n",
      "0.8212405261822375\n",
      "0.821240547078119\n",
      "0.821240531587492\n",
      "0.8212405272654437\n",
      "0.8631381992945217\n",
      "0.8631381589079326\n",
      "0.8631381817516841\n",
      "0.8631381472926805\n",
      "0.8631382050875429\n",
      "0.40813352456467644\n",
      "0.40813352813888426\n",
      "0.40813344984288635\n",
      "0.4081334260118472\n",
      "0.4081334549157807\n",
      "-0.874008557277266\n",
      "-0.8740086095741222\n",
      "-0.8740085970322924\n",
      "-0.8740086169572951\n",
      "-0.8740085829897546\n",
      "-0.2692865789989449\n",
      "-0.269287032919748\n",
      "-0.2692859160716786\n",
      "-0.2692872104927309\n",
      "-0.26928651173700974\n",
      "0.4245028214250016\n",
      "0.42450258472588964\n",
      "0.4245031076538636\n",
      "0.4245026177671756\n",
      "0.4245028254108253\n",
      "0.67176003686702\n",
      "0.6717597045194879\n",
      "0.6717602384728447\n",
      "0.6717596415298505\n",
      "0.6717600543019862\n",
      "-0.09990089517286946\n",
      "-0.09990145176888154\n",
      "-0.09989985821678538\n",
      "-0.09990163953683207\n",
      "-0.09990080107374408\n",
      "0.6016380189271193\n",
      "0.6016372125984608\n",
      "0.6016393615319608\n",
      "0.6016370882510353\n",
      "0.6016381316503918\n",
      "0.7531804060020103\n",
      "0.7531799509525676\n",
      "0.7531809215222649\n",
      "0.7531798658150932\n",
      "0.7531804585985695\n",
      "0.8180192361485804\n",
      "0.8180189568081606\n",
      "0.8180199672310327\n",
      "0.8180189177461614\n",
      "0.8180193084524998\n",
      "0.8411762213528591\n",
      "0.8411759789829216\n",
      "0.841176613803883\n",
      "0.8411759360930873\n",
      "0.8411762663922575\n",
      "0.843902230699267\n",
      "0.8439019928616557\n",
      "0.8439024197300414\n",
      "0.8439019420880012\n",
      "0.8439022595207617\n",
      "0.8438510615851532\n",
      "0.843850836692085\n",
      "0.8438510924682766\n",
      "0.8438507805725866\n",
      "0.8438510777464455\n",
      "0.8456367912549972\n",
      "0.8456365858218227\n",
      "0.8456367458515317\n",
      "0.8456365294939682\n",
      "0.8456368013243949\n",
      "0.8463934408791558\n",
      "0.8463932509447365\n",
      "0.8463933574043253\n",
      "0.8463931954363273\n",
      "0.8463934479640136\n",
      "0.8467034688702455\n",
      "0.8467032912837298\n",
      "0.8467033642808077\n",
      "0.8467032368688892\n",
      "0.8467034743652548\n",
      "0.8468527075426868\n",
      "0.8468525401280969\n",
      "0.8468525898199721\n",
      "0.8468524868563245\n",
      "0.8468527121184395\n",
      "0.8469396605844948\n",
      "0.8469395018498944\n",
      "0.8469395337489563\n",
      "0.8469394497103021\n",
      "0.8469396645987755\n",
      "0.8469997198080719\n",
      "0.8469995687037561\n",
      "0.8469995859795807\n",
      "0.8469995176769561\n",
      "0.8469997234750211\n",
      "0.8470463037706008\n",
      "0.8470461595466632\n",
      "0.8470461640537807\n",
      "0.8470461096208151\n",
      "0.8470463072310204\n",
      "0.8470847707166766\n",
      "0.8470846328525383\n",
      "0.8470846256488158\n",
      "0.8470845840311823\n",
      "0.84708477407126\n",
      "0.847116645257812\n",
      "0.8471165134463539\n",
      "0.8471164951109384\n",
      "0.847116465757719\n",
      "0.8471166485875856\n",
      "0.8471428160215864\n",
      "0.8471426901302341\n",
      "0.8471426609944024\n",
      "0.8471426436286009\n",
      "0.8471428194025881\n",
      "0.8471631683471347\n",
      "0.8471630483871293\n",
      "0.8471630086930095\n",
      "0.8471630031528421\n",
      "0.8471631718616649\n",
      "0.8471204600535887\n",
      "0.8471203472676427\n",
      "0.8471202971536187\n",
      "0.8471203038897529\n",
      "0.8471204642316343\n",
      "0.8470872022689486\n",
      "0.8470870969062054\n",
      "0.8470870347946754\n",
      "0.8470870556911625\n",
      "0.8470872074311045\n",
      "0.8470301150786526\n",
      "0.8470300171054614\n",
      "0.8470299399838614\n",
      "0.847029978289316\n",
      "0.8470301214627347\n",
      "0.8469549614867646\n",
      "0.8469548711599387\n",
      "0.8469547765515293\n",
      "0.8469548349763822\n",
      "0.846954969257526\n",
      "0.8469521693548114\n",
      "0.8469520868876155\n",
      "0.8469519732401078\n",
      "0.8469520533979742\n",
      "0.8469521784238094\n",
      "0.8472675404393031\n",
      "0.8472674656402822\n",
      "0.8472673354553761\n",
      "0.847267434291455\n",
      "0.8472675500147993\n",
      "0.8472677287218748\n",
      "0.8472676612168809\n",
      "0.8472675148089108\n",
      "0.8472676319098178\n",
      "0.8472677387497589\n",
      "0.8473436817712193\n",
      "0.8473436190521294\n",
      "0.8473434306080108\n",
      "0.8473435915287021\n",
      "0.8473436903764908\n",
      "0.4620047794321952\n",
      "0.4620047563624523\n",
      "0.4620045591681755\n",
      "0.46200472355226563\n",
      "0.4620048904989146\n",
      "0.3349539501141994\n",
      "0.334953952599901\n",
      "0.3349546309527238\n",
      "0.33495389123588015\n",
      "0.334953961424429\n",
      "0.8685211785419833\n",
      "0.8685211385840703\n",
      "0.8685210719918015\n",
      "0.8685211219887919\n",
      "0.8685212016181204\n",
      "0.858444407338075\n",
      "0.8584443653744152\n",
      "0.8584443103598718\n",
      "0.858444347912777\n",
      "0.8584444315218694\n",
      "0.9066772937959072\n",
      "0.906677274288709\n",
      "0.9066772355685959\n",
      "0.9066772649106405\n",
      "0.9066773081646229\n",
      "0.89111539770873\n",
      "0.8911153757138337\n",
      "0.8911153469969222\n",
      "0.8911153652499959\n",
      "0.8911154134088091\n",
      "0.8473436817712193\n",
      "0.8473436190521294\n",
      "0.8473434306080108\n",
      "0.8473435915287021\n",
      "0.8473436903764908\n",
      "0.7453808551298213\n",
      "0.7453808336363844\n",
      "0.7453808797630319\n",
      "0.7453808077003576\n",
      "0.7453809232120514\n",
      "0.658057437038135\n",
      "0.6580574174977151\n",
      "0.6580581860905217\n",
      "0.6580573635406958\n",
      "0.6580574984866612\n",
      "0.8369931250670066\n",
      "0.8369930896236495\n",
      "0.8369931043715021\n",
      "0.8369930704928721\n",
      "0.8369931658303548\n",
      "0.8382715691071336\n",
      "0.8382715451179243\n",
      "0.8382716746480641\n",
      "0.8382715278441502\n",
      "0.8382716180518524\n",
      "0.8594577434141505\n",
      "0.8594576811528748\n",
      "0.8594576239070058\n",
      "0.8594576592312633\n",
      "0.8594577637213547\n",
      "0.8523167189271155\n",
      "0.8523166576358878\n",
      "0.8523166195600003\n",
      "0.8523166351902132\n",
      "0.8523167406668757\n",
      "0.8473436817712193\n",
      "0.8473436190521294\n",
      "0.8473434306080108\n",
      "0.8473435915287021\n",
      "0.8473436903764908\n",
      "0.8537417325520755\n",
      "0.8537416581812652\n",
      "0.8537415712642545\n",
      "0.8537416338052342\n",
      "0.8537417509398444\n",
      "0.8493039874344104\n",
      "0.8493039142369598\n",
      "0.8493038600457001\n",
      "0.8493038894586029\n",
      "0.8493040077047125\n",
      "0.8517484271645341\n",
      "0.8517483450487788\n",
      "0.8517482991056338\n",
      "0.8517483184932764\n",
      "0.8517484444762333\n",
      "0.8490623538686473\n",
      "0.8490622775833748\n",
      "0.8490622618558114\n",
      "0.8490622511228876\n",
      "0.8490623734108149\n",
      "0.8742832661544349\n",
      "0.8742832203914463\n",
      "0.8742831756609657\n",
      "0.8742832028122156\n",
      "0.8742832851908051\n",
      "0.8616369988649208\n",
      "0.861636951727909\n",
      "0.8616369205646311\n",
      "0.8616369331769045\n",
      "0.8616370194847367\n",
      "`xtol` termination condition is satisfied.\n",
      "Number of iterations: 45, function evaluations: 270, CG iterations: 100, optimality: 2.15e+00, constraint violation: 0.00e+00, execution time: 4e+02 s.\n",
      "All parameters optimized\n"
     ]
    }
   ],
   "source": [
    "gs_cs_parameterization.parameter_optimization(obj_func='gii_gs', parameterize='both')"
   ]
  },
  {
   "cell_type": "markdown",
   "id": "4899d93c",
   "metadata": {},
   "source": [
    "### Single Parameter Optimization"
   ]
  },
  {
   "cell_type": "code",
   "execution_count": 28,
   "id": "cf7a93dd",
   "metadata": {},
   "outputs": [],
   "source": [
    "single_parameterization_gii = BVParamOptimization([short_structures], [short_energies], \n",
    "                                                         gii_calc.params_dict, [cation], [anion], options=options)"
   ]
  },
  {
   "cell_type": "code",
   "execution_count": 29,
   "id": "d1d83c99",
   "metadata": {},
   "outputs": [
    {
     "name": "stdout",
     "output_type": "stream",
     "text": [
      "-0.31195916177186295\n",
      "-0.3119589033101902\n",
      "0.8266033357753323\n",
      "0.826603340335776\n",
      "0.8535480718045818\n",
      "0.8535480312807145\n",
      "-0.39097757570365277\n",
      "-0.3909774480010062\n",
      "0.8219541046914551\n",
      "0.8219541054474953\n",
      "0.8597353823300886\n",
      "0.8597353358383644\n",
      "-0.006679020775964051\n",
      "-0.006678288212894901\n",
      "0.8637759252091005\n",
      "0.8637758750450728\n",
      "0.8898998049832447\n",
      "0.8898997369931558\n",
      "0.712875293375542\n",
      "0.7128769142693724\n",
      "0.9013424941399776\n",
      "0.9013424218891131\n",
      "`gtol` termination condition is satisfied.\n",
      "Number of iterations: 11, function evaluations: 22, CG iterations: 10, optimality: 4.62e-03, constraint violation: 0.00e+00, execution time: 3.1e+01 s.\n"
     ]
    }
   ],
   "source": [
    "gii_optimized_param_dict = single_parameterization_gii.param_optimizer()"
   ]
  },
  {
   "cell_type": "code",
   "execution_count": 30,
   "id": "6b86209f",
   "metadata": {},
   "outputs": [
    {
     "data": {
      "text/plain": [
       "({'Cation': [Species Na+, Species Nb5+],\n",
       "  'Anion': [Species O2-, Species O2-],\n",
       "  'R0': [1.803, 1.961],\n",
       "  'B': [0.37, 0.37]},\n",
       " {'Cation': [Species Na+, Species Nb5+],\n",
       "  'Anion': [Species O2-, Species O2-],\n",
       "  'R0': [1.803, 1.911],\n",
       "  'B': [0.37, 0.37]})"
      ]
     },
     "execution_count": 30,
     "metadata": {},
     "output_type": "execute_result"
    }
   ],
   "source": [
    "gii_optimized_param_dict, gii_calc.params_dict"
   ]
  },
  {
   "cell_type": "markdown",
   "id": "a73c9a46",
   "metadata": {},
   "source": [
    "### Multiple Parameter Optimization"
   ]
  },
  {
   "cell_type": "code",
   "execution_count": 34,
   "id": "24953545",
   "metadata": {},
   "outputs": [],
   "source": [
    "gii_pol = GeneralBVParamOptimizationOuterLoop(short_dct, cations_anions, gii_calc.params_dict)"
   ]
  },
  {
   "cell_type": "code",
   "execution_count": 35,
   "id": "f412b767",
   "metadata": {},
   "outputs": [
    {
     "name": "stdout",
     "output_type": "stream",
     "text": [
      "(Species Nb5+, Species O2-) 1\n",
      "1.911 0.37\n",
      "-0.31195916177186295\n",
      "-0.3119589033101902\n",
      "0.8266033357753323\n",
      "0.826603340335776\n",
      "0.8535480718045818\n",
      "0.8535480312807145\n",
      "-0.39097757570365277\n",
      "-0.3909774480010062\n",
      "0.8219541046914551\n",
      "0.8219541054474953\n",
      "0.8597353823300886\n",
      "0.8597353358383644\n",
      "-0.006679020775964051\n",
      "-0.006678288212894901\n",
      "0.8637759252091005\n",
      "0.8637758750450728\n",
      "0.8898998049832447\n",
      "0.8898997369931558\n",
      "0.712875293375542\n",
      "0.7128769142693724\n",
      "0.9013424941399776\n",
      "0.9013424218891131\n",
      "0.9075435230816551\n",
      "0.9075434843020624\n",
      "0.908019140737167\n",
      "0.9080191581905526\n",
      "0.9080651551777972\n",
      "0.9080651648362212\n",
      "0.9080760146495126\n",
      "0.9080760214232637\n",
      "`gtol` termination condition is satisfied.\n",
      "Number of iterations: 17, function evaluations: 30, CG iterations: 14, optimality: 8.65e-04, constraint violation: 0.00e+00, execution time: 4.2e+01 s.\n",
      "1.957 0.37\n",
      "(Species Na+, Species O2-) 1\n",
      "1.803 0.37\n",
      "0.9080332128113098\n",
      "0.9080331561312214\n",
      "0.8647245005521961\n",
      "0.8647245075482657\n",
      "0.928128455842581\n",
      "0.9281284732688118\n",
      "0.9102386228649307\n",
      "0.9102385689128697\n",
      "0.9261749785073761\n",
      "0.9261749434380303\n",
      "0.9406189922837072\n",
      "0.9406189788932953\n",
      "0.9374825677454524\n",
      "0.9374825447754653\n",
      "0.9319516674886805\n",
      "0.9319516379602643\n",
      "0.9340753612701249\n",
      "0.9340753334562422\n",
      "`gtol` termination condition is satisfied.\n",
      "Number of iterations: 11, function evaluations: 18, CG iterations: 8, optimality: 2.70e-04, constraint violation: 0.00e+00, execution time: 2.4e+01 s.\n",
      "1.785 0.37\n",
      "(Species Nb5+, Species O2-) 2\n",
      "1.957 0.37\n",
      "0.934473823320447\n",
      "0.9344737764723663\n",
      "0.8561751619640073\n",
      "0.8561751658293388\n",
      "0.8469129116017087\n",
      "0.8469128961126622\n",
      "0.8433106681879858\n",
      "0.8433106564197069\n",
      "0.8701898944062687\n",
      "0.8701898579829795\n",
      "0.8980914400384395\n",
      "0.8980913855179343\n",
      "0.9154853056919288\n",
      "0.9154852485995673\n",
      "0.9240581802372179\n",
      "0.9240581265877889\n",
      "0.934473823320447\n",
      "0.9344737764723663\n",
      "0.9291262729961656\n",
      "0.9291262178570884\n",
      "0.9302869093820407\n",
      "0.9302868223311636\n",
      "0.9308100780926752\n",
      "0.9308099633284685\n",
      "`gtol` termination condition is satisfied.\n",
      "Number of iterations: 12, function evaluations: 24, CG iterations: 10, optimality: 4.48e-04, constraint violation: 0.00e+00, execution time: 3.3e+01 s.\n",
      "1.958 0.37\n",
      "(Species Na+, Species O2-) 3\n",
      "1.785 0.37\n",
      "0.9309009914565682\n",
      "0.9309009698319655\n",
      "0.7912655961481114\n",
      "0.7912656054702778\n",
      "0.8822590771703086\n",
      "0.882259084350707\n",
      "0.9384505188375082\n",
      "0.9384505327813938\n",
      "0.08601053056221003\n",
      "0.08600939575727112\n",
      "0.9342329432953629\n",
      "0.9342329060930002\n",
      "0.9309933803129298\n",
      "0.930993358663241\n",
      "0.9311823463593065\n",
      "0.9311823245060606\n",
      "0.9351528869572576\n",
      "0.9351528513732257\n",
      "0.9328866639206337\n",
      "0.9328866264286972\n",
      "0.9338325254309721\n",
      "0.9338324877038975\n",
      "0.9324651627859306\n",
      "0.9324651275181459\n",
      "0.932483651599916\n",
      "0.932483616175793\n",
      "0.9319777881193828\n",
      "0.9319777593205738\n",
      "`gtol` termination condition is satisfied.\n",
      "Number of iterations: 13, function evaluations: 28, CG iterations: 11, optimality: 2.65e-05, constraint violation: 0.00e+00, execution time: 3.9e+01 s.\n",
      "1.784 0.37\n",
      "Convergence Reached\n"
     ]
    }
   ],
   "source": [
    "gii_pol.parameter_optimization(init_steps=1, max_steps=3)"
   ]
  },
  {
   "cell_type": "code",
   "execution_count": 36,
   "id": "39fdea6e",
   "metadata": {},
   "outputs": [
    {
     "data": {
      "text/plain": [
       "({'Cation': [Species Na+, Species Nb5+],\n",
       "  'Anion': [Species O2-, Species O2-],\n",
       "  'R0': [1.803, 1.911],\n",
       "  'B': [0.37, 0.37]},\n",
       " {'Cation': [Species Na+, Species Nb5+],\n",
       "  'Anion': [Species O2-, Species O2-],\n",
       "  'R0': [1.784, 1.958],\n",
       "  'B': [0.37, 0.37]})"
      ]
     },
     "execution_count": 36,
     "metadata": {},
     "output_type": "execute_result"
    }
   ],
   "source": [
    "gii_pol.starting_params, gii_pol.updated_params"
   ]
  },
  {
   "cell_type": "code",
   "execution_count": null,
   "id": "998e8ae6",
   "metadata": {},
   "outputs": [],
   "source": []
  }
 ],
 "metadata": {
  "kernelspec": {
   "display_name": "Python 3 (ipykernel)",
   "language": "python",
   "name": "python3"
  },
  "language_info": {
   "codemirror_mode": {
    "name": "ipython",
    "version": 3
   },
   "file_extension": ".py",
   "mimetype": "text/x-python",
   "name": "python",
   "nbconvert_exporter": "python",
   "pygments_lexer": "ipython3",
   "version": "3.9.5"
  }
 },
 "nbformat": 4,
 "nbformat_minor": 5
}
