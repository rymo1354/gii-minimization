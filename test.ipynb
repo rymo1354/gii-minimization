{
 "cells": [
  {
   "cell_type": "markdown",
   "id": "69247720",
   "metadata": {},
   "source": [
    "## Imports"
   ]
  },
  {
   "cell_type": "code",
   "execution_count": 27,
   "id": "b5409d01",
   "metadata": {},
   "outputs": [],
   "source": [
    "import time\n",
    "import json\n",
    "import numpy as np\n",
    "import pandas as pd\n",
    "from pymatgen.core.periodic_table import Species\n",
    "from pymatgen.core.structure import Structure\n",
    "from tqdm.notebook import tqdm"
   ]
  },
  {
   "cell_type": "markdown",
   "id": "cd409d50",
   "metadata": {},
   "source": [
    "## Read in JSON for Testing"
   ]
  },
  {
   "cell_type": "code",
   "execution_count": 2,
   "id": "57d726ca",
   "metadata": {},
   "outputs": [],
   "source": [
    "with open('188_ABO3_structures_and_energies_7_tilts.json') as json_file:\n",
    "    dct = json.load(json_file)\n",
    "for key in list(dct.keys()):\n",
    "    dct[key]['structures'] = [Structure.from_dict(s) for s in dct[key]['structures']]"
   ]
  },
  {
   "cell_type": "markdown",
   "id": "01007837",
   "metadata": {},
   "source": [
    "# Benchmark gii_calculator.py"
   ]
  },
  {
   "cell_type": "markdown",
   "id": "ca68055b",
   "metadata": {},
   "source": [
    "## Compute Matminer GII - Benchmarking"
   ]
  },
  {
   "cell_type": "code",
   "execution_count": 5,
   "id": "0e2cec8c",
   "metadata": {},
   "outputs": [],
   "source": [
    "from matminer.featurizers.structure.bonding import GlobalInstabilityIndex\n",
    "# matminer GlobalInstabilityIndex uses bvparm16.cif, which is the default for GIICalculator"
   ]
  },
  {
   "cell_type": "code",
   "execution_count": 6,
   "id": "783c83a7",
   "metadata": {},
   "outputs": [],
   "source": [
    "benchmark_structure = dct['NaNbO3']['structures'][1]"
   ]
  },
  {
   "cell_type": "code",
   "execution_count": 7,
   "id": "fa45ed45",
   "metadata": {},
   "outputs": [
    {
     "name": "stdout",
     "output_type": "stream",
     "text": [
      "Time taken: --- 0.47692179679870605 seconds ---\n"
     ]
    }
   ],
   "source": [
    "start_time = time.time()\n",
    "mm_gii_calc = GlobalInstabilityIndex(r_cut=4)\n",
    "mm_gii = mm_gii_calc.featurize(benchmark_structure)[0]\n",
    "print(\"Time taken: --- %s seconds ---\" % (time.time() - start_time))"
   ]
  },
  {
   "cell_type": "code",
   "execution_count": 8,
   "id": "4d8539f2",
   "metadata": {},
   "outputs": [
    {
     "data": {
      "text/plain": [
       "0.22783964947722182"
      ]
     },
     "execution_count": 8,
     "metadata": {},
     "output_type": "execute_result"
    }
   ],
   "source": [
    "mm_gii"
   ]
  },
  {
   "cell_type": "markdown",
   "id": "de7487aa",
   "metadata": {},
   "source": [
    "## Compute GIICalculator GII"
   ]
  },
  {
   "cell_type": "code",
   "execution_count": 9,
   "id": "1a5350e1",
   "metadata": {},
   "outputs": [],
   "source": [
    "from gii_calculator import GIICalculator"
   ]
  },
  {
   "cell_type": "code",
   "execution_count": 10,
   "id": "3903a35c",
   "metadata": {},
   "outputs": [
    {
     "name": "stdout",
     "output_type": "stream",
     "text": [
      "Time taken: --- 0.08050274848937988 seconds ---\n"
     ]
    }
   ],
   "source": [
    "start_time = time.time()\n",
    "#gii_calc = GIICalculator(method='CrystalNN')\n",
    "gii_calc = GIICalculator(method='Cutoff', cutoff=4)\n",
    "gii = gii_calc.GII(benchmark_structure)\n",
    "print(\"Time taken: --- %s seconds ---\" % (time.time() - start_time))"
   ]
  },
  {
   "cell_type": "code",
   "execution_count": 11,
   "id": "94048b19",
   "metadata": {},
   "outputs": [
    {
     "data": {
      "text/plain": [
       "0.22783964947722182"
      ]
     },
     "execution_count": 11,
     "metadata": {},
     "output_type": "execute_result"
    }
   ],
   "source": [
    "gii"
   ]
  },
  {
   "cell_type": "code",
   "execution_count": 12,
   "id": "1ecf7ab8",
   "metadata": {},
   "outputs": [
    {
     "data": {
      "text/plain": [
       "{'Cation': [Species Na+, Species Nb5+],\n",
       " 'Anion': [Species O2-, Species O2-],\n",
       " 'R0': [1.803, 1.911],\n",
       " 'B': [0.37, 0.37]}"
      ]
     },
     "execution_count": 12,
     "metadata": {},
     "output_type": "execute_result"
    }
   ],
   "source": [
    "gii_calc.params_dict"
   ]
  },
  {
   "cell_type": "markdown",
   "id": "07db1e84",
   "metadata": {},
   "source": [
    "# Benchmark site_optimization.py"
   ]
  },
  {
   "cell_type": "markdown",
   "id": "5df1ff0d",
   "metadata": {},
   "source": [
    "## Perform the Site Optimization"
   ]
  },
  {
   "cell_type": "code",
   "execution_count": 12,
   "id": "bb96e688",
   "metadata": {},
   "outputs": [],
   "source": [
    "from site_optimization import SiteClusterOptimization"
   ]
  },
  {
   "cell_type": "code",
   "execution_count": 18,
   "id": "b1b4adc8",
   "metadata": {},
   "outputs": [],
   "source": [
    "sco = SiteClusterOptimization()"
   ]
  },
  {
   "cell_type": "code",
   "execution_count": 19,
   "id": "0aaf2c89",
   "metadata": {},
   "outputs": [
    {
     "name": "stdout",
     "output_type": "stream",
     "text": [
      "Time taken: --- 3.984825849533081 seconds ---\n"
     ]
    }
   ],
   "source": [
    "start_time = time.time()\n",
    "final_structure = sco.minimize_cluster_di_squared(benchmark_structure, site_ind=16) # pass the index of site to be optimized\n",
    "print(\"Time taken: --- %s seconds ---\" % (time.time() - start_time))"
   ]
  },
  {
   "cell_type": "code",
   "execution_count": 20,
   "id": "966465c3",
   "metadata": {},
   "outputs": [
    {
     "name": "stdout",
     "output_type": "stream",
     "text": [
      "Time taken: --- 0.14157724380493164 seconds ---\n"
     ]
    }
   ],
   "source": [
    "start_time = time.time()\n",
    "start_gii = gii_calc.GII(benchmark_structure)\n",
    "print(\"Time taken: --- %s seconds ---\" % (time.time() - start_time))"
   ]
  },
  {
   "cell_type": "code",
   "execution_count": 21,
   "id": "55a3a33b",
   "metadata": {},
   "outputs": [
    {
     "data": {
      "text/plain": [
       "0.22741774664473707"
      ]
     },
     "execution_count": 21,
     "metadata": {},
     "output_type": "execute_result"
    }
   ],
   "source": [
    "start_gii"
   ]
  },
  {
   "cell_type": "code",
   "execution_count": 22,
   "id": "c9406ddd",
   "metadata": {},
   "outputs": [
    {
     "name": "stdout",
     "output_type": "stream",
     "text": [
      "Time taken: --- 0.3294098377227783 seconds ---\n"
     ]
    }
   ],
   "source": [
    "start_time = time.time()\n",
    "final_gii = gii_calc.GII(final_structure, use_sym=False)\n",
    "print(\"Time taken: --- %s seconds ---\" % (time.time() - start_time))"
   ]
  },
  {
   "cell_type": "code",
   "execution_count": 23,
   "id": "5cdce0d5",
   "metadata": {},
   "outputs": [
    {
     "data": {
      "text/plain": [
       "0.2222068229123708"
      ]
     },
     "execution_count": 23,
     "metadata": {},
     "output_type": "execute_result"
    }
   ],
   "source": [
    "final_gii"
   ]
  },
  {
   "cell_type": "markdown",
   "id": "36d850e3",
   "metadata": {},
   "source": [
    "## Perform the Structure Optimization "
   ]
  },
  {
   "cell_type": "code",
   "execution_count": 12,
   "id": "91734c24",
   "metadata": {},
   "outputs": [],
   "source": [
    "from site_optimization import GIIMinimizer"
   ]
  },
  {
   "cell_type": "code",
   "execution_count": 25,
   "id": "8caa895b",
   "metadata": {},
   "outputs": [],
   "source": [
    "gii_minimizer = GIIMinimizer(benchmark_structure, convergence_tolerance=0.01)\n",
    "# All sites optimized until optimization of said site changes GII by < convergence_tolerance"
   ]
  },
  {
   "cell_type": "code",
   "execution_count": 26,
   "id": "ff42b5b2",
   "metadata": {},
   "outputs": [
    {
     "name": "stdout",
     "output_type": "stream",
     "text": [
      "Step 1 complete; 0.22741774664473727 --> 0.21685468242809414\n",
      "Step 2 complete; 0.21685468242809414 --> 0.21253671761744256\n",
      "Step 3 complete; 0.21253671761744256 --> 0.20319583095480914\n",
      "Step 4 complete; 0.20319583095480914 --> 0.19929305787714166\n",
      "Step 5 complete; 0.19929305787714166 --> 0.17406125117144214\n",
      "Step 6 complete; 0.17406125117144214 --> 0.1541425987472521\n",
      "Step 7 complete; 0.1541425987472521 --> 0.14735253314386446\n",
      "Step 8 complete; 0.14735253314386446 --> 0.12605574185146776\n",
      "Step 9 complete; 0.12605574185146776 --> 0.1172540398089425\n",
      "Step 10 complete; 0.1172540398089425 --> 0.11532954906197346\n",
      "Step 11 complete; 0.11532954906197346 --> 0.11098630269185894\n",
      "Step 12 complete; 0.11098630269185894 --> 0.10514996486333666\n",
      "Step 13 complete; 0.10514996486333666 --> 0.10514996486333666\n",
      "Step 14 complete; 0.10514996486333666 --> 0.10514996486333666\n",
      "Step 15 complete; 0.10514996486333666 --> 0.10512042010554813\n",
      "Step 16 complete; 0.10512042010554813 --> 0.1051185729262532\n",
      "Step 17 complete; 0.1051185729262532 --> 0.0986069988851831\n",
      "Step 18 complete; 0.0986069988851831 --> 0.09122660778338057\n",
      "Step 19 complete; 0.09122660778338057 --> 0.07878842921420805\n",
      "Step 20 complete; 0.07878842921420805 --> 0.072647054513046\n",
      "Step 21 complete; 0.072647054513046 --> 0.07136760157205188\n",
      "Step 22 complete; 0.07136760157205188 --> 0.07028418106471407\n",
      "Step 23 complete; 0.07028418106471407 --> 0.06761867338826875\n",
      "Step 24 complete; 0.06761867338826875 --> 0.06761867338826873\n",
      "Step 25 complete; 0.06761867338826873 --> 0.0657293991543679\n",
      "Convergence reached; delGII from all site optimizations < 0.01\n",
      "Total Time: --- 333.1009600162506 seconds ---\n"
     ]
    }
   ],
   "source": [
    "optimized_structure = gii_minimizer.gii_minimization(opt_method='max')"
   ]
  },
  {
   "cell_type": "code",
   "execution_count": 27,
   "id": "b4411b6d",
   "metadata": {},
   "outputs": [
    {
     "name": "stdout",
     "output_type": "stream",
     "text": [
      "Specie: Na+, delGII of optimization step: 0.006511574041070112\n",
      "Specie: Na+, delGII of optimization step: 0.007380391101802525\n",
      "Specie: Na+, delGII of optimization step: 0.0018892742339008256\n",
      "Specie: Na+, delGII of optimization step: 0.00614137470116205\n",
      "Specie: Nb5+, delGII of optimization step: 2.9544757788532716e-05\n",
      "Specie: Nb5+, delGII of optimization step: 0.0\n",
      "Specie: Nb5+, delGII of optimization step: 1.847179294925394e-06\n",
      "Specie: Nb5+, delGII of optimization step: 0.0\n",
      "Specie: O2-, delGII of optimization step: 0.008801702042525256\n",
      "Specie: O2-, delGII of optimization step: 0.001924490746969043\n",
      "Specie: O2-, delGII of optimization step: 0.004343246370114517\n",
      "Specie: O2-, delGII of optimization step: 0.0058363378285222756\n",
      "Specie: O2-, delGII of optimization step: 0.006790065603387657\n",
      "Specie: O2-, delGII of optimization step: 2.7755575615628914e-17\n",
      "Specie: O2-, delGII of optimization step: 0.002665507676445314\n",
      "Specie: O2-, delGII of optimization step: 0.0010834205073378123\n",
      "Specie: O2-, delGII of optimization step: 0.004317964810651581\n",
      "Specie: O2-, delGII of optimization step: 0.009340886662633413\n",
      "Specie: O2-, delGII of optimization step: 0.0012794529409941163\n",
      "Specie: O2-, delGII of optimization step: 0.003902773077667482\n"
     ]
    }
   ],
   "source": [
    "# Get the change in GII following optimization for each site in the structure, show that it is < convergence_tolerance\n",
    "for i in range(len(gii_minimizer.diffs)):\n",
    "    print('Specie: %s, delGII of optimization step: %s' % (optimized_structure[i].specie, gii_minimizer.diffs[i]))"
   ]
  },
  {
   "cell_type": "markdown",
   "id": "2a31514c",
   "metadata": {},
   "source": [
    "# Benchmark parameterization.py"
   ]
  },
  {
   "cell_type": "code",
   "execution_count": 3,
   "id": "28ea8fc7",
   "metadata": {},
   "outputs": [],
   "source": [
    "from parameterization import BVParamOptimization\n",
    "from parameterization import GeneralBVParamOptimizationOuterLoop\n",
    "from parameterization import CompositionSpecificBVParamOptimizationOuterLoop\n",
    "from pymatgen.core.periodic_table import Specie"
   ]
  },
  {
   "cell_type": "code",
   "execution_count": 38,
   "id": "47873f73",
   "metadata": {},
   "outputs": [
    {
     "data": {
      "application/vnd.jupyter.widget-view+json": {
       "model_id": "197b29de105f4394874a63bc021d2d8a",
       "version_major": 2,
       "version_minor": 0
      },
      "text/plain": [
       "  0%|          | 0/188 [00:00<?, ?it/s]"
      ]
     },
     "metadata": {},
     "output_type": "display_data"
    }
   ],
   "source": [
    "# Define variables and get the starting parameters for cation-anion pairs present\n",
    "\n",
    "use_cmpd = 'NaNbO3'\n",
    "cation = Specie('Nb', 5)\n",
    "anion = Specie('O', -2)\n",
    "cations_anions = [(Specie('Nb', 5), Specie('O', -2)), (Specie('Na', 1), Specie('O', -2))]\n",
    "options = {'gtol': 0.01, 'xtol': 0.01, 'barrier_tol': 0.01, 'disp': True, 'verbose': 0} # Changed from default\n",
    "\n",
    "opt_gii_calc = GIICalculator()\n",
    "for cmpd in tqdm(list(dct.keys())):\n",
    "    s = dct[cmpd]['structures'][0]\n",
    "    for pair in cations_anions:\n",
    "        if pair[0] in s.species and pair[1] in s.species:\n",
    "            opt_gii_calc.GII(s)"
   ]
  },
  {
   "cell_type": "markdown",
   "id": "f62bad2a",
   "metadata": {},
   "source": [
    "## Parameterization that minimizes site discrepancy factor RMSD"
   ]
  },
  {
   "cell_type": "markdown",
   "metadata": {},
   "source": [
    "### Composition-Specific Parameterization - R0 Only"
   ]
  },
  {
   "cell_type": "code",
   "execution_count": 39,
   "metadata": {},
   "outputs": [],
   "source": [
    "rmsd_cs_parameterization = CompositionSpecificBVParamOptimizationOuterLoop(dct, [use_cmpd], gii_calc.params_dict)"
   ]
  },
  {
   "cell_type": "code",
   "execution_count": 40,
   "metadata": {},
   "outputs": [
    {
     "name": "stdout",
     "output_type": "stream",
     "text": [
      "0.5308895346573191\n",
      "0.5308895112541309\n",
      "0.5308891838870685\n",
      "63.015576647717445\n",
      "63.01557672285028\n",
      "63.01558459206464\n",
      "0.5282671110507696\n",
      "0.5282671003017034\n",
      "0.5282675406421314\n",
      "0.7404243226939411\n",
      "0.7404243084034181\n",
      "0.7404239906841008\n",
      "0.2954180377835418\n",
      "0.2954180292579315\n",
      "0.29541767147706044\n",
      "0.44558215589695394\n",
      "0.4455821491725202\n",
      "0.4455825768390654\n",
      "0.16583447805799414\n",
      "0.16583447037603738\n",
      "0.16583479955750247\n",
      "0.9158437566387116\n",
      "0.9158437523431111\n",
      "0.9158434405088176\n",
      "0.3635283985563304\n",
      "0.3635283920154361\n",
      "0.3635280352789497\n",
      "0.20315853657454244\n",
      "0.20315852942325102\n",
      "0.20315818163988209\n",
      "`xtol` termination condition is satisfied.\n",
      "Number of iterations: 10, function evaluations: 30, CG iterations: 11, optimality: 1.11e+01, constraint violation: 0.00e+00, execution time: 6.1e+01 s.\n",
      "All parameters optimized using convergence criteria\n"
     ]
    }
   ],
   "source": [
    "rmsd_cs_parameterization.parameter_optimization(obj_func='di2_rmsd', parameterize='R0')"
   ]
  },
  {
   "cell_type": "code",
   "execution_count": 41,
   "metadata": {},
   "outputs": [
    {
     "data": {
      "text/plain": [
       "({'NaNbO3': {'Cation': [Species Na+, Species Nb5+],\n",
       "   'Anion': [Species O2-, Species O2-],\n",
       "   'R0': [1.812, 1.948],\n",
       "   'B': [0.37, 0.37]}},\n",
       " {'Cation': [Species Na+, Species Nb5+],\n",
       "  'Anion': [Species O2-, Species O2-],\n",
       "  'R0': [1.803, 1.911],\n",
       "  'B': [0.37, 0.37]})"
      ]
     },
     "execution_count": 41,
     "metadata": {},
     "output_type": "execute_result"
    }
   ],
   "source": [
    "rmsd_cs_parameterization.updated_params_by_composition, rmsd_cs_parameterization.starting_params"
   ]
  },
  {
   "cell_type": "markdown",
   "id": "867471c3",
   "metadata": {},
   "source": [
    "### Single Parameter Optimization"
   ]
  },
  {
   "cell_type": "code",
   "execution_count": 42,
   "id": "72ad1854",
   "metadata": {},
   "outputs": [],
   "source": [
    "single_parameterization_rmsd = BVParamOptimization([dct['NaNbO3']['structures']], [dct['NaNbO3']['energies']], \n",
    "                                                          gii_calc.params_dict, [cation], [anion], \n",
    "                                                          obj_func='di2_rmsd', options=options)"
   ]
  },
  {
   "cell_type": "code",
   "execution_count": 43,
   "id": "902d4f85",
   "metadata": {},
   "outputs": [
    {
     "name": "stdout",
     "output_type": "stream",
     "text": [
      "0.4251867164064254\n",
      "0.42518636563617485\n",
      "63.280137501585074\n",
      "63.28014550644829\n",
      "0.4215481128367954\n",
      "0.4215485418104881\n",
      "0.6405397907050021\n",
      "0.6405394588520444\n",
      "0.1986049751186708\n",
      "0.1986046088775735\n",
      "0.34005285300513977\n",
      "0.3400532733401292\n",
      "0.06217008191721985\n",
      "0.06217039318185852\n",
      "0.7223628056896995\n",
      "0.7223624811561369\n",
      "0.22460630986753102\n",
      "0.22460594448746252\n",
      "`xtol` termination condition is satisfied.\n",
      "Number of iterations: 9, function evaluations: 18, CG iterations: 8, optimality: 1.07e+01, constraint violation: 0.00e+00, execution time: 1e+01 s.\n"
     ]
    }
   ],
   "source": [
    "rmsd_optimized_param_dict = single_parameterization_rmsd.param_optimizer()"
   ]
  },
  {
   "cell_type": "code",
   "execution_count": 44,
   "id": "ae45b933",
   "metadata": {},
   "outputs": [
    {
     "data": {
      "text/plain": [
       "({'Cation': [Species Na+, Species Nb5+],\n",
       "  'Anion': [Species O2-, Species O2-],\n",
       "  'R0': [1.803, 1.947],\n",
       "  'B': [0.37, 0.37]},\n",
       " {'Cation': [Species Na+, Species Nb5+],\n",
       "  'Anion': [Species O2-, Species O2-],\n",
       "  'R0': [1.803, 1.911],\n",
       "  'B': [0.37, 0.37]})"
      ]
     },
     "execution_count": 44,
     "metadata": {},
     "output_type": "execute_result"
    }
   ],
   "source": [
    "rmsd_optimized_param_dict, gii_calc.params_dict"
   ]
  },
  {
   "cell_type": "markdown",
   "id": "d41372ac",
   "metadata": {},
   "source": [
    "### Multiple Parameter Optimization"
   ]
  },
  {
   "cell_type": "code",
   "execution_count": 45,
   "id": "e5a580f9",
   "metadata": {},
   "outputs": [
    {
     "name": "stdout",
     "output_type": "stream",
     "text": [
      "(Species Nb5+, Species O2-) 1\n",
      "0.4969390575513647\n",
      "0.4969387160501041\n",
      "62.294816408595636\n",
      "62.294824297855406\n",
      "0.34363124443999804\n",
      "0.3436316535316038\n",
      "0.6840425074428501\n",
      "0.6840421804589454\n",
      "0.2613087595497971\n",
      "0.2613084121266947\n",
      "0.2670507273521087\n",
      "0.2670511195419649\n",
      "0.0904857709845064\n",
      "0.0904857026085591\n",
      "0.09209978152058317\n",
      "0.09209988155868214\n",
      "0.08909100222462095\n",
      "0.08909100247134066\n",
      "0.0890909847560686\n",
      "0.08909098474949245\n",
      "`gtol` termination condition is satisfied.\n",
      "Number of iterations: 10, function evaluations: 20, CG iterations: 9, optimality: 2.26e-04, constraint violation: 0.00e+00, execution time: 2.3e+01 s.\n",
      "1.949 0.37\n",
      "(Species Na+, Species O2-) 1\n",
      "0.13569325932729512\n",
      "0.13569327382202984\n",
      "0.7659563949669042\n",
      "0.7659563831005939\n",
      "0.2544913514129494\n",
      "0.25449130618335986\n",
      "0.14056527663663793\n",
      "0.14056525482565752\n",
      "0.1334338297270636\n",
      "0.13343382442091917\n",
      "0.1330659864098037\n",
      "0.13306598721757404\n",
      "0.13305754624328342\n",
      "0.13305754622897045\n",
      "`gtol` termination condition is satisfied.\n",
      "Number of iterations: 7, function evaluations: 14, CG iterations: 6, optimality: 5.36e-04, constraint violation: 0.00e+00, execution time: 7.7e+01 s.\n",
      "1.793 0.37\n",
      "(Species Nb5+, Species O2-) 2\n",
      "0.08909709091934098\n",
      "0.08909708632715402\n",
      "2.6654291691035654\n",
      "2.6654298190418326\n",
      "0.09037426120479876\n",
      "0.09037432733893579\n",
      "0.09073286061865866\n",
      "0.09073293523869287\n",
      "`xtol` termination condition is satisfied.\n",
      "Number of iterations: 4, function evaluations: 8, CG iterations: 3, optimality: 1.58e-01, constraint violation: 0.00e+00, execution time:  7.7 s.\n",
      "1.949 0.37\n",
      "(Species Na+, Species O2-) 3\n",
      "0.1330585706284281\n",
      "0.13305857034739976\n",
      "0.1359803329738091\n",
      "0.13598034823916913\n",
      "0.13305754400435738\n",
      "0.13305754399863098\n",
      "`gtol` termination condition is satisfied.\n",
      "Number of iterations: 3, function evaluations: 6, CG iterations: 2, optimality: 2.14e-04, constraint violation: 0.00e+00, execution time: 2.6e+01 s.\n",
      "1.793 0.37\n",
      "All parameters optimized using convergence criteria\n"
     ]
    }
   ],
   "source": [
    "rmsd_pol = GeneralBVParamOptimizationOuterLoop(dct, cations_anions, opt_gii_calc.params_dict)\n",
    "rmsd_pol.parameter_optimization(obj_func='di2_rmsd', init_steps=1)"
   ]
  },
  {
   "cell_type": "code",
   "execution_count": 46,
   "metadata": {},
   "outputs": [
    {
     "data": {
      "text/plain": [
       "{'Cation': [Species Na+,\n",
       "  Species Nb5+,\n",
       "  Species Sb5+,\n",
       "  Species Ta5+,\n",
       "  Species W5+,\n",
       "  Species Ag+],\n",
       " 'Anion': [Species O2-,\n",
       "  Species O2-,\n",
       "  Species O2-,\n",
       "  Species O2-,\n",
       "  Species O2-,\n",
       "  Species O2-],\n",
       " 'R0': [1.803, 1.911, 1.912, 1.92, 1.881, 1.842],\n",
       " 'B': [0.37, 0.37, 0.37, 0.37, 0.37, 0.37]}"
      ]
     },
     "execution_count": 46,
     "metadata": {},
     "output_type": "execute_result"
    }
   ],
   "source": [
    "rmsd_pol.starting_params"
   ]
  },
  {
   "cell_type": "code",
   "execution_count": 47,
   "id": "a21afba0",
   "metadata": {},
   "outputs": [
    {
     "data": {
      "text/plain": [
       "{'Cation': [Species Na+,\n",
       "  Species Nb5+,\n",
       "  Species Sb5+,\n",
       "  Species Ta5+,\n",
       "  Species W5+,\n",
       "  Species Ag+],\n",
       " 'Anion': [Species O2-,\n",
       "  Species O2-,\n",
       "  Species O2-,\n",
       "  Species O2-,\n",
       "  Species O2-,\n",
       "  Species O2-],\n",
       " 'R0': [1.793, 1.949, 1.912, 1.92, 1.881, 1.842],\n",
       " 'B': [0.37, 0.37, 0.37, 0.37, 0.37, 0.37]}"
      ]
     },
     "execution_count": 47,
     "metadata": {},
     "output_type": "execute_result"
    }
   ],
   "source": [
    "rmsd_pol.updated_params"
   ]
  },
  {
   "cell_type": "markdown",
   "id": "6e83f666",
   "metadata": {},
   "source": [
    "## Parameterization considering GII-DFT Energetics Relationship"
   ]
  },
  {
   "cell_type": "markdown",
   "metadata": {},
   "source": [
    "### Composition-Specific Parameterization"
   ]
  },
  {
   "cell_type": "code",
   "execution_count": 48,
   "metadata": {},
   "outputs": [],
   "source": [
    "gs_cs_parameterization = CompositionSpecificBVParamOptimizationOuterLoop(dct, [use_cmpd], gii_calc.params_dict)"
   ]
  },
  {
   "cell_type": "code",
   "execution_count": 49,
   "metadata": {},
   "outputs": [
    {
     "name": "stdout",
     "output_type": "stream",
     "text": [
      "0.8759271965561727\n",
      "0.8759270114046712\n",
      "0.8759272979182438\n",
      "0.9970649010355069\n",
      "0.997064900735736\n",
      "0.9970649013574377\n",
      "0.9581090510603086\n",
      "0.9581089885304245\n",
      "0.9581091037970134\n",
      "0.9493711118565613\n",
      "0.949371030490742\n",
      "0.9493711789234135\n",
      "0.8799701953456404\n",
      "0.8799699466098394\n",
      "0.8799705224470059\n",
      "0.9702919813944775\n",
      "0.9702919619256541\n",
      "0.9702920029424218\n",
      "0.9561926342495858\n",
      "0.9561925776816448\n",
      "0.9561926801096746\n",
      "0.9347960660080918\n",
      "0.9347959418044921\n",
      "0.9347961348487588\n",
      "0.9523393502424893\n",
      "0.9523392528798112\n",
      "0.9523394259009775\n",
      "0.6920518486763058\n",
      "0.6920513261740705\n",
      "0.6920518901729429\n",
      "0.8778407975826956\n",
      "0.8778405160533279\n",
      "0.8778412054640523\n",
      "0.8277399648027359\n",
      "0.8277395774707722\n",
      "0.8277404653086947\n",
      "0.8600146867128924\n",
      "0.8600143266834223\n",
      "0.8600148477239995\n",
      "0.8504086349470362\n",
      "0.8504082583889168\n",
      "0.850408889016567\n",
      "0.8500255609987467\n",
      "0.8500251844500756\n",
      "0.8500258304032184\n",
      "0.931128287105023\n",
      "0.9311281058911738\n",
      "0.9311284435754681\n",
      "0.9449883725067338\n",
      "0.9449882302040133\n",
      "0.9449885570234362\n",
      "0.9435776352470792\n",
      "0.9435774993907702\n",
      "0.9435777707184219\n",
      "0.9619209397796048\n",
      "0.9619208409551399\n",
      "0.961921126423129\n",
      "0.9401174745411324\n",
      "0.9401173256971658\n",
      "0.9401176066324771\n",
      "0.956789398769556\n",
      "0.9567892915782625\n",
      "0.9567895899104254\n",
      "0.8651164130294166\n",
      "0.865116063345475\n",
      "0.8651166653336015\n",
      "0.8937638724069658\n",
      "0.8937635842975055\n",
      "0.8937640882590188\n",
      "0.896014469256794\n",
      "0.8960141866725116\n",
      "0.8960146900514115\n",
      "0.8964702164401156\n",
      "0.8964699349510229\n",
      "0.8964704330877384\n",
      "0.9364530647166446\n",
      "0.9364529018118736\n",
      "0.9364531752250063\n",
      "0.9424101626170379\n",
      "0.9424100224802655\n",
      "0.9424102901969645\n",
      "0.9138424060406548\n",
      "0.9138421711237263\n",
      "0.913842584965983\n",
      "0.9151337382948733\n",
      "0.9151335069207512\n",
      "0.9151339198298063\n",
      "0.9154098874815444\n",
      "0.9154096566026296\n",
      "0.9154100753808636\n",
      "0.9154001473863904\n",
      "0.9153999163962948\n",
      "0.9154003371152593\n",
      "0.9568913652098753\n",
      "0.9568912882333427\n",
      "0.9568914879058235\n",
      "0.9703460330043026\n",
      "0.9703459591203086\n",
      "0.9703462414146776\n",
      "0.9259985925487391\n",
      "0.9259983939143763\n",
      "0.9259987642507236\n",
      "0.9267871830667093\n",
      "0.9267869869066658\n",
      "0.9267873543122687\n",
      "0.9360883167365818\n",
      "0.9360881519090517\n",
      "0.9360884755983626\n",
      "0.9368649263598458\n",
      "0.9368647646988444\n",
      "0.9368650801195091\n",
      "0.9449008104131106\n",
      "0.9449006790425837\n",
      "0.9449009550644281\n",
      "0.9456907795921905\n",
      "0.9456906520429573\n",
      "0.9456909146549721\n",
      "0.9525300376063354\n",
      "0.9525299393775651\n",
      "0.9525301675973405\n",
      "0.9533773929843505\n",
      "0.953377299022004\n",
      "0.9533775001964445\n",
      "0.9533694013818916\n",
      "0.9533693074346992\n",
      "0.9533695133850975\n",
      "0.9533687211036538\n",
      "0.9533686271498104\n",
      "0.9533688365458579\n",
      "0.9631004003461845\n",
      "0.9631003416401712\n",
      "0.9631003724866563\n",
      "0.9674862565472612\n",
      "0.9674861953849219\n",
      "0.9674865293497693\n",
      "0.9730656988592125\n",
      "0.9730656106111623\n",
      "0.9730656597858607\n",
      "0.9735943581463945\n",
      "0.9735942785196334\n",
      "0.9735943222578876\n",
      "0.9716908309769133\n",
      "0.9716907400311343\n",
      "0.9716907965269447\n",
      "0.9722054630748941\n",
      "0.9722053800426356\n",
      "0.9722054111492425\n",
      "0.9760924340773836\n",
      "0.9760923525280665\n",
      "0.9760924005041007\n",
      "0.976146627521186\n",
      "0.9761465554405457\n",
      "0.9761466282485518\n",
      "`xtol` termination condition is satisfied.\n",
      "Number of iterations: 42, function evaluations: 153, CG iterations: 55, optimality: 1.03e+00, constraint violation: 0.00e+00, execution time: 1.7e+02 s.\n",
      "All parameters optimized using convergence criteria\n"
     ]
    }
   ],
   "source": [
    "gs_cs_parameterization.parameter_optimization(obj_func='gii_gs')"
   ]
  },
  {
   "cell_type": "code",
   "execution_count": 50,
   "metadata": {},
   "outputs": [
    {
     "data": {
      "text/plain": [
       "({'NaNbO3': {'Cation': [Species Na+, Species Nb5+],\n",
       "   'Anion': [Species O2-, Species O2-],\n",
       "   'R0': [1.802, 1.945],\n",
       "   'B': [0.37, 0.37]}},\n",
       " {'Cation': [Species Na+, Species Nb5+],\n",
       "  'Anion': [Species O2-, Species O2-],\n",
       "  'R0': [1.803, 1.911],\n",
       "  'B': [0.37, 0.37]})"
      ]
     },
     "execution_count": 50,
     "metadata": {},
     "output_type": "execute_result"
    }
   ],
   "source": [
    "gs_cs_parameterization.updated_params_by_composition, gs_cs_parameterization.starting_params"
   ]
  },
  {
   "cell_type": "markdown",
   "id": "4899d93c",
   "metadata": {},
   "source": [
    "### Single Parameter Optimization"
   ]
  },
  {
   "cell_type": "code",
   "execution_count": 52,
   "id": "cf7a93dd",
   "metadata": {},
   "outputs": [],
   "source": [
    "single_parameterization_gii = BVParamOptimization([dct['NaNbO3']['structures']], [dct['NaNbO3']['energies']], \n",
    "                                                         gii_calc.params_dict, [cation], [anion], options=options)"
   ]
  },
  {
   "cell_type": "code",
   "execution_count": 53,
   "id": "d1d83c99",
   "metadata": {},
   "outputs": [
    {
     "name": "stdout",
     "output_type": "stream",
     "text": [
      "0.8759271965561727\n",
      "0.8759272979182438\n",
      "0.9967800101556453\n",
      "0.9967800108992403\n",
      "0.9619289177254557\n",
      "0.9619289733733777\n",
      "0.984418093510638\n",
      "0.9844181018430954\n",
      "0.9836163600494846\n",
      "0.9836163664459969\n",
      "0.9827209932647463\n",
      "0.982721000745698\n",
      "0.9335406405642902\n",
      "0.9335407078168376\n",
      "0.9974258203794442\n",
      "0.9974258205344567\n",
      "0.9418518786446923\n",
      "0.9418519455268382\n",
      "0.9972529524684045\n",
      "0.997252952763292\n",
      "0.9625979157353322\n",
      "0.9625980930116182\n",
      "0.9955935986250433\n",
      "0.9955936005956567\n",
      "0.9794640807542064\n",
      "0.9794641566457716\n",
      "`gtol` termination condition is satisfied.\n",
      "Number of iterations: 10, function evaluations: 26, CG iterations: 9, optimality: 8.28e-04, constraint violation: 0.00e+00, execution time: 2.7e+01 s.\n"
     ]
    }
   ],
   "source": [
    "gii_optimized_param_dict = single_parameterization_gii.param_optimizer()"
   ]
  },
  {
   "cell_type": "code",
   "execution_count": 54,
   "id": "6b86209f",
   "metadata": {},
   "outputs": [
    {
     "data": {
      "text/plain": [
       "({'Cation': [Species Na+, Species Nb5+],\n",
       "  'Anion': [Species O2-, Species O2-],\n",
       "  'R0': [1.803, 1.948],\n",
       "  'B': [0.37, 0.37]},\n",
       " {'Cation': [Species Na+, Species Nb5+],\n",
       "  'Anion': [Species O2-, Species O2-],\n",
       "  'R0': [1.803, 1.911],\n",
       "  'B': [0.37, 0.37]})"
      ]
     },
     "execution_count": 54,
     "metadata": {},
     "output_type": "execute_result"
    }
   ],
   "source": [
    "gii_optimized_param_dict, gii_calc.params_dict"
   ]
  },
  {
   "cell_type": "markdown",
   "id": "a73c9a46",
   "metadata": {},
   "source": [
    "### Multiple Parameter Optimization"
   ]
  },
  {
   "cell_type": "code",
   "execution_count": 76,
   "id": "24953545",
   "metadata": {},
   "outputs": [],
   "source": [
    "# gii_pol = GeneralBVParamOptimizationOuterLoop(dct, cations_anions, opt_gii_calc.params_dict)"
   ]
  },
  {
   "cell_type": "code",
   "execution_count": 77,
   "id": "f412b767",
   "metadata": {},
   "outputs": [],
   "source": [
    "# gii_pol.parameter_optimization(init_steps=1, max_steps=3)"
   ]
  },
  {
   "cell_type": "code",
   "execution_count": null,
   "metadata": {},
   "outputs": [],
   "source": []
  }
 ],
 "metadata": {
  "kernelspec": {
   "display_name": "Python 3 (ipykernel)",
   "language": "python",
   "name": "python3"
  },
  "language_info": {
   "codemirror_mode": {
    "name": "ipython",
    "version": 3
   },
   "file_extension": ".py",
   "mimetype": "text/x-python",
   "name": "python",
   "nbconvert_exporter": "python",
   "pygments_lexer": "ipython3",
   "version": "3.9.5"
  }
 },
 "nbformat": 4,
 "nbformat_minor": 5
}
