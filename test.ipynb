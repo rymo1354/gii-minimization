{
 "cells": [
  {
   "cell_type": "markdown",
   "id": "69247720",
   "metadata": {},
   "source": [
    "## Imports"
   ]
  },
  {
   "cell_type": "code",
   "execution_count": 1,
   "id": "b5409d01",
   "metadata": {},
   "outputs": [],
   "source": [
    "from pymatgen.transformations.standard_transformations import AutoOxiStateDecorationTransformation\n",
    "import time\n",
    "import numpy as np\n",
    "from pymatgen.core.periodic_table import Species\n",
    "import pandas as pd\n",
    "from pymatgen.core.structure import Structure"
   ]
  },
  {
   "cell_type": "markdown",
   "id": "cd409d50",
   "metadata": {},
   "source": [
    "## Class to add oxidation states to structure"
   ]
  },
  {
   "cell_type": "code",
   "execution_count": 2,
   "id": "57d726ca",
   "metadata": {},
   "outputs": [],
   "source": [
    "aosdt = AutoOxiStateDecorationTransformation()"
   ]
  },
  {
   "cell_type": "markdown",
   "id": "685ec395",
   "metadata": {},
   "source": [
    "## Get testing structure and add oxidation states"
   ]
  },
  {
   "cell_type": "code",
   "execution_count": 3,
   "id": "5ce89865",
   "metadata": {},
   "outputs": [],
   "source": [
    "structure = Structure.from_file('mp-4681.vasp')\n",
    "oxi_structure = aosdt.apply_transformation(structure)"
   ]
  },
  {
   "cell_type": "code",
   "execution_count": 4,
   "id": "c3bd230a",
   "metadata": {},
   "outputs": [],
   "source": [
    "species = np.unique([s.specie for s in oxi_structure])\n",
    "oxi_dict = {}\n",
    "for s in species:\n",
    "    oxi_dict[str(s.element)] = s.oxi_state"
   ]
  },
  {
   "cell_type": "markdown",
   "id": "ca68055b",
   "metadata": {},
   "source": [
    "## Compute Matminer GII - Benchmarking"
   ]
  },
  {
   "cell_type": "code",
   "execution_count": 5,
   "id": "0e2cec8c",
   "metadata": {},
   "outputs": [],
   "source": [
    "from matminer.featurizers.structure.bonding import GlobalInstabilityIndex\n",
    "# matminer GlobalInstabilityIndex uses bvparm16.cif, which is the default for GIICalculator"
   ]
  },
  {
   "cell_type": "code",
   "execution_count": 6,
   "id": "fa45ed45",
   "metadata": {},
   "outputs": [
    {
     "name": "stdout",
     "output_type": "stream",
     "text": [
      "Time taken: --- 0.4463930130004883 seconds ---\n"
     ]
    }
   ],
   "source": [
    "start_time = time.time()\n",
    "mm_gii_calc = GlobalInstabilityIndex(r_cut=4)\n",
    "mm_gii = mm_gii_calc.featurize(oxi_structure)[0]\n",
    "print(\"Time taken: --- %s seconds ---\" % (time.time() - start_time))"
   ]
  },
  {
   "cell_type": "code",
   "execution_count": 7,
   "id": "4d8539f2",
   "metadata": {},
   "outputs": [
    {
     "data": {
      "text/plain": [
       "0.2295876515555516"
      ]
     },
     "execution_count": 7,
     "metadata": {},
     "output_type": "execute_result"
    }
   ],
   "source": [
    "mm_gii"
   ]
  },
  {
   "cell_type": "markdown",
   "id": "de7487aa",
   "metadata": {},
   "source": [
    "## Compute GIICalculator GII"
   ]
  },
  {
   "cell_type": "code",
   "execution_count": 8,
   "id": "1a5350e1",
   "metadata": {},
   "outputs": [],
   "source": [
    "from gii_minimization import GIICalculator"
   ]
  },
  {
   "cell_type": "code",
   "execution_count": 9,
   "id": "3903a35c",
   "metadata": {},
   "outputs": [
    {
     "name": "stdout",
     "output_type": "stream",
     "text": [
      "Time taken: --- 0.09987139701843262 seconds ---\n"
     ]
    }
   ],
   "source": [
    "start_time = time.time()\n",
    "#gii_calc = GIICalculator(method='CrystalNN')\n",
    "gii_calc = GIICalculator(method='Cutoff', cutoff=4)\n",
    "gii = gii_calc.GII(oxi_structure)\n",
    "print(\"Time taken: --- %s seconds ---\" % (time.time() - start_time))"
   ]
  },
  {
   "cell_type": "code",
   "execution_count": 10,
   "id": "94048b19",
   "metadata": {},
   "outputs": [
    {
     "data": {
      "text/plain": [
       "0.22958765155555164"
      ]
     },
     "execution_count": 10,
     "metadata": {},
     "output_type": "execute_result"
    }
   ],
   "source": [
    "gii"
   ]
  },
  {
   "cell_type": "code",
   "execution_count": 11,
   "id": "1ecf7ab8",
   "metadata": {},
   "outputs": [
    {
     "data": {
      "text/plain": [
       "{'Cation': [Species Na+, Species Nb5+],\n",
       " 'Anion': [Species O2-, Species O2-],\n",
       " 'R0': [1.803, 1.911],\n",
       " 'B': [0.37, 0.37]}"
      ]
     },
     "execution_count": 11,
     "metadata": {},
     "output_type": "execute_result"
    }
   ],
   "source": [
    "gii_calc.params_dict"
   ]
  },
  {
   "cell_type": "markdown",
   "id": "5df1ff0d",
   "metadata": {},
   "source": [
    "## Perform the Site Optimization"
   ]
  },
  {
   "cell_type": "code",
   "execution_count": 12,
   "id": "bb96e688",
   "metadata": {},
   "outputs": [],
   "source": [
    "from gii_minimization import SiteClusterOptimization"
   ]
  },
  {
   "cell_type": "code",
   "execution_count": 13,
   "id": "b1b4adc8",
   "metadata": {},
   "outputs": [],
   "source": [
    "sco = SiteClusterOptimization()"
   ]
  },
  {
   "cell_type": "code",
   "execution_count": 14,
   "id": "0aaf2c89",
   "metadata": {},
   "outputs": [
    {
     "name": "stdout",
     "output_type": "stream",
     "text": [
      "Time taken: --- 1.5238230228424072 seconds ---\n"
     ]
    }
   ],
   "source": [
    "start_time = time.time()\n",
    "final_structure = sco.minimize_cluster_di_squared(oxi_structure, site_ind=16) # pass the index of site to be optimized\n",
    "print(\"Time taken: --- %s seconds ---\" % (time.time() - start_time))"
   ]
  },
  {
   "cell_type": "code",
   "execution_count": 15,
   "id": "966465c3",
   "metadata": {},
   "outputs": [
    {
     "name": "stdout",
     "output_type": "stream",
     "text": [
      "Time taken: --- 0.07769083976745605 seconds ---\n"
     ]
    }
   ],
   "source": [
    "start_time = time.time()\n",
    "start_gii = gii_calc.GII(oxi_structure)\n",
    "print(\"Time taken: --- %s seconds ---\" % (time.time() - start_time))"
   ]
  },
  {
   "cell_type": "code",
   "execution_count": 16,
   "id": "55a3a33b",
   "metadata": {},
   "outputs": [
    {
     "data": {
      "text/plain": [
       "0.22958765155555164"
      ]
     },
     "execution_count": 16,
     "metadata": {},
     "output_type": "execute_result"
    }
   ],
   "source": [
    "start_gii"
   ]
  },
  {
   "cell_type": "code",
   "execution_count": 17,
   "id": "c9406ddd",
   "metadata": {},
   "outputs": [
    {
     "name": "stdout",
     "output_type": "stream",
     "text": [
      "Time taken: --- 0.18429183959960938 seconds ---\n"
     ]
    }
   ],
   "source": [
    "start_time = time.time()\n",
    "final_gii = gii_calc.GII(final_structure, use_sym=False)\n",
    "print(\"Time taken: --- %s seconds ---\" % (time.time() - start_time))"
   ]
  },
  {
   "cell_type": "code",
   "execution_count": 18,
   "id": "5cdce0d5",
   "metadata": {},
   "outputs": [
    {
     "data": {
      "text/plain": [
       "0.22521258089793017"
      ]
     },
     "execution_count": 18,
     "metadata": {},
     "output_type": "execute_result"
    }
   ],
   "source": [
    "final_gii"
   ]
  },
  {
   "cell_type": "markdown",
   "id": "36d850e3",
   "metadata": {},
   "source": [
    "## Perform the Structure Optimization "
   ]
  },
  {
   "cell_type": "code",
   "execution_count": 19,
   "id": "91734c24",
   "metadata": {},
   "outputs": [],
   "source": [
    "from gii_minimization import GIIMinimizer"
   ]
  },
  {
   "cell_type": "code",
   "execution_count": 21,
   "id": "8caa895b",
   "metadata": {},
   "outputs": [],
   "source": [
    "gii_minimizer = GIIMinimizer(oxi_structure, convergence_tolerance=0.01)\n",
    "# All sites optimized until optimization of said site changes GII by < convergence_tolerance"
   ]
  },
  {
   "cell_type": "code",
   "execution_count": 22,
   "id": "ff42b5b2",
   "metadata": {},
   "outputs": [
    {
     "name": "stdout",
     "output_type": "stream",
     "text": [
      "Step 1 complete; 0.22958765155555255 --> 0.21549777952098717\n",
      "Step 2 complete; 0.21549777952098717 --> 0.19173268867430582\n",
      "Step 3 complete; 0.19173268867430582 --> 0.1804305852801663\n",
      "Step 4 complete; 0.1804305852801663 --> 0.15846711462195934\n",
      "Step 5 complete; 0.15846711462195934 --> 0.15270143025604774\n",
      "Step 6 complete; 0.15270143025604774 --> 0.14251610265431833\n",
      "Step 7 complete; 0.14251610265431833 --> 0.12463795328881057\n",
      "Step 8 complete; 0.12463795328881057 --> 0.12089018037407909\n",
      "Step 9 complete; 0.12089018037407909 --> 0.10077945970741657\n",
      "Step 10 complete; 0.10077945970741657 --> 0.08919326280330687\n",
      "Step 11 complete; 0.08919326280330687 --> 0.08919326280330686\n",
      "Step 12 complete; 0.08919326280330686 --> 0.07832052207686163\n",
      "Step 13 complete; 0.07832052207686163 --> 0.07832052207686163\n",
      "Step 14 complete; 0.07832052207686163 --> 0.07832052207686165\n",
      "Step 15 complete; 0.07832052207686165 --> 0.07832052207686165\n",
      "Step 16 complete; 0.07832052207686165 --> 0.07832052207686171\n",
      "Step 17 complete; 0.07832052207686171 --> 0.07284799370113541\n",
      "Step 18 complete; 0.07284799370113541 --> 0.05777595758616705\n",
      "Step 19 complete; 0.05777595758616705 --> 0.053947496242438345\n",
      "Step 20 complete; 0.053947496242438345 --> 0.04694650065781029\n",
      "Step 21 complete; 0.04694650065781029 --> 0.04694650065781029\n",
      "Step 22 complete; 0.04694650065781029 --> 0.04685298927256953\n",
      "Step 23 complete; 0.04685298927256953 --> 0.04685298927256953\n",
      "Step 24 complete; 0.04685298927256953 --> 0.045843041040130345\n",
      "Step 25 complete; 0.045843041040130345 --> 0.045843041040130345\n",
      "Step 26 complete; 0.045843041040130345 --> 0.045843041040130345\n",
      "Step 27 complete; 0.045843041040130345 --> 0.043514240477052185\n",
      "Step 28 complete; 0.043514240477052185 --> 0.03725359166621413\n",
      "Step 29 complete; 0.03725359166621413 --> 0.03725359166621413\n",
      "Step 30 complete; 0.03725359166621413 --> 0.037316342464235173\n",
      "Convergence reached; delGII from all site optimizations < 0.01\n",
      "Total Time: --- 225.50478959083557 seconds ---\n"
     ]
    }
   ],
   "source": [
    "optimized_structure = gii_minimizer.gii_minimization(opt_method='max')"
   ]
  },
  {
   "cell_type": "code",
   "execution_count": 27,
   "id": "b4411b6d",
   "metadata": {},
   "outputs": [
    {
     "name": "stdout",
     "output_type": "stream",
     "text": [
      "Specie: Na+, delGII of optimization step: 0.0038284613437287035\n",
      "Specie: Na+, delGII of optimization step: 0.007000995584628057\n",
      "Specie: Na+, delGII of optimization step: 0.005472528375726302\n",
      "Specie: Na+, delGII of optimization step: 0.006260648810838057\n",
      "Specie: Nb5+, delGII of optimization step: -6.938893903907228e-17\n",
      "Specie: Nb5+, delGII of optimization step: 0.0\n",
      "Specie: Nb5+, delGII of optimization step: -1.3877787807814457e-17\n",
      "Specie: Nb5+, delGII of optimization step: 0.0\n",
      "Specie: O2-, delGII of optimization step: 0.0010099482324391826\n",
      "Specie: O2-, delGII of optimization step: 0.0\n",
      "Specie: O2-, delGII of optimization step: 9.351138524076041e-05\n",
      "Specie: O2-, delGII of optimization step: 0.0\n",
      "Specie: O2-, delGII of optimization step: 0.0037477729147314814\n",
      "Specie: O2-, delGII of optimization step: 0.0\n",
      "Specie: O2-, delGII of optimization step: 0.0023288005630781594\n",
      "Specie: O2-, delGII of optimization step: 0.0\n",
      "Specie: O2-, delGII of optimization step: 0.0057656843659116\n",
      "Specie: O2-, delGII of optimization step: -6.275079802104538e-05\n",
      "Specie: O2-, delGII of optimization step: 1.3877787807814457e-17\n",
      "Specie: O2-, delGII of optimization step: 0.0\n"
     ]
    }
   ],
   "source": [
    "# Get the change in GII following optimization for each site in the structure, show that it is < convergence_tolerance\n",
    "for i in range(len(gii_minimizer.diffs)):\n",
    "    print('Specie: %s, delGII of optimization step: %s' % (optimized_structure[i].specie, gii_minimizer.diffs[i]))"
   ]
  },
  {
   "cell_type": "code",
   "execution_count": null,
   "id": "37cd1e63",
   "metadata": {},
   "outputs": [],
   "source": []
  }
 ],
 "metadata": {
  "kernelspec": {
   "display_name": "Python 3 (ipykernel)",
   "language": "python",
   "name": "python3"
  },
  "language_info": {
   "codemirror_mode": {
    "name": "ipython",
    "version": 3
   },
   "file_extension": ".py",
   "mimetype": "text/x-python",
   "name": "python",
   "nbconvert_exporter": "python",
   "pygments_lexer": "ipython3",
   "version": "3.9.5"
  }
 },
 "nbformat": 4,
 "nbformat_minor": 5
}
