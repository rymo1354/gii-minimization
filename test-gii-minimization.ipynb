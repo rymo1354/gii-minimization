{
 "cells": [
  {
   "cell_type": "markdown",
   "id": "69247720",
   "metadata": {},
   "source": [
    "## Imports"
   ]
  },
  {
   "cell_type": "code",
   "execution_count": 1,
   "id": "b5409d01",
   "metadata": {},
   "outputs": [],
   "source": [
    "from pymatgen.transformations.standard_transformations import AutoOxiStateDecorationTransformation\n",
    "import time\n",
    "import numpy as np\n",
    "from pymatgen.core.periodic_table import Species\n",
    "import pandas as pd\n",
    "from pymatgen.core.structure import Structure"
   ]
  },
  {
   "cell_type": "markdown",
   "id": "cd409d50",
   "metadata": {},
   "source": [
    "## Class to add oxidation states to structure"
   ]
  },
  {
   "cell_type": "code",
   "execution_count": 2,
   "id": "57d726ca",
   "metadata": {},
   "outputs": [],
   "source": [
    "aosdt = AutoOxiStateDecorationTransformation()"
   ]
  },
  {
   "cell_type": "markdown",
   "id": "685ec395",
   "metadata": {},
   "source": [
    "## Get testing structure and add oxidation states"
   ]
  },
  {
   "cell_type": "code",
   "execution_count": 3,
   "id": "5ce89865",
   "metadata": {},
   "outputs": [],
   "source": [
    "structure = Structure.from_file('mp-4681.vasp')\n",
    "oxi_structure = aosdt.apply_transformation(structure)"
   ]
  },
  {
   "cell_type": "code",
   "execution_count": 4,
   "id": "c3bd230a",
   "metadata": {},
   "outputs": [],
   "source": [
    "species = np.unique([s.specie for s in oxi_structure])\n",
    "oxi_dict = {}\n",
    "for s in species:\n",
    "    oxi_dict[str(s.element)] = s.oxi_state"
   ]
  },
  {
   "cell_type": "markdown",
   "id": "ca68055b",
   "metadata": {},
   "source": [
    "## Compute Matminer GII - Benchmarking"
   ]
  },
  {
   "cell_type": "code",
   "execution_count": 5,
   "id": "0e2cec8c",
   "metadata": {},
   "outputs": [],
   "source": [
    "from matminer.featurizers.structure.bonding import GlobalInstabilityIndex\n",
    "# matminer GlobalInstabilityIndex uses bvparm16.cif, which is the default for GIICalculator"
   ]
  },
  {
   "cell_type": "code",
   "execution_count": 6,
   "id": "fa45ed45",
   "metadata": {},
   "outputs": [
    {
     "name": "stdout",
     "output_type": "stream",
     "text": [
      "Time taken: --- 0.4426238536834717 seconds ---\n"
     ]
    }
   ],
   "source": [
    "start_time = time.time()\n",
    "mm_gii_calc = GlobalInstabilityIndex(r_cut=4)\n",
    "mm_gii = mm_gii_calc.featurize(oxi_structure)[0]\n",
    "print(\"Time taken: --- %s seconds ---\" % (time.time() - start_time))"
   ]
  },
  {
   "cell_type": "code",
   "execution_count": 7,
   "id": "4d8539f2",
   "metadata": {},
   "outputs": [
    {
     "data": {
      "text/plain": [
       "0.2295876515555516"
      ]
     },
     "execution_count": 7,
     "metadata": {},
     "output_type": "execute_result"
    }
   ],
   "source": [
    "mm_gii"
   ]
  },
  {
   "cell_type": "markdown",
   "id": "de7487aa",
   "metadata": {},
   "source": [
    "## Compute GIICalculator GII"
   ]
  },
  {
   "cell_type": "code",
   "execution_count": 8,
   "id": "1a5350e1",
   "metadata": {},
   "outputs": [],
   "source": [
    "from gii_minimization import GIICalculator"
   ]
  },
  {
   "cell_type": "code",
   "execution_count": 9,
   "id": "3903a35c",
   "metadata": {},
   "outputs": [
    {
     "name": "stdout",
     "output_type": "stream",
     "text": [
      "Time taken: --- 0.10015511512756348 seconds ---\n"
     ]
    }
   ],
   "source": [
    "start_time = time.time()\n",
    "#gii_calc = GIICalculator(method='CrystalNN')\n",
    "gii_calc = GIICalculator(method='Cutoff', cutoff=4)\n",
    "gii = gii_calc.GII(oxi_structure)\n",
    "print(\"Time taken: --- %s seconds ---\" % (time.time() - start_time))"
   ]
  },
  {
   "cell_type": "code",
   "execution_count": 10,
   "id": "94048b19",
   "metadata": {},
   "outputs": [
    {
     "data": {
      "text/plain": [
       "0.22958765155555164"
      ]
     },
     "execution_count": 10,
     "metadata": {},
     "output_type": "execute_result"
    }
   ],
   "source": [
    "gii"
   ]
  },
  {
   "cell_type": "code",
   "execution_count": 11,
   "id": "1ecf7ab8",
   "metadata": {},
   "outputs": [
    {
     "data": {
      "text/plain": [
       "{'Cation': [Species Na+, Species Nb5+],\n",
       " 'Anion': [Species O2-, Species O2-],\n",
       " 'R0': [1.803, 1.911],\n",
       " 'B': [0.37, 0.37]}"
      ]
     },
     "execution_count": 11,
     "metadata": {},
     "output_type": "execute_result"
    }
   ],
   "source": [
    "gii_calc.params_dict"
   ]
  },
  {
   "cell_type": "markdown",
   "id": "5df1ff0d",
   "metadata": {},
   "source": [
    "## Perform the Site Optimization"
   ]
  },
  {
   "cell_type": "code",
   "execution_count": 12,
   "id": "bb96e688",
   "metadata": {},
   "outputs": [],
   "source": [
    "from gii_minimization import SiteClusterOptimization"
   ]
  },
  {
   "cell_type": "code",
   "execution_count": 35,
   "id": "b1b4adc8",
   "metadata": {},
   "outputs": [],
   "source": [
    "sco = SiteClusterOptimization()"
   ]
  },
  {
   "cell_type": "code",
   "execution_count": 36,
   "id": "0aaf2c89",
   "metadata": {},
   "outputs": [
    {
     "name": "stdout",
     "output_type": "stream",
     "text": [
      "Time taken: --- 1.5121281147003174 seconds ---\n"
     ]
    }
   ],
   "source": [
    "start_time = time.time()\n",
    "final_structure = sco.minimize_cluster_di_squared(oxi_structure, 16) # pass the index of site to be optimized\n",
    "print(\"Time taken: --- %s seconds ---\" % (time.time() - start_time))"
   ]
  },
  {
   "cell_type": "code",
   "execution_count": 37,
   "id": "966465c3",
   "metadata": {},
   "outputs": [
    {
     "name": "stdout",
     "output_type": "stream",
     "text": [
      "Time taken: --- 0.07842350006103516 seconds ---\n"
     ]
    }
   ],
   "source": [
    "start_time = time.time()\n",
    "start_gii = gii_calc.GII(oxi_structure)\n",
    "print(\"Time taken: --- %s seconds ---\" % (time.time() - start_time))"
   ]
  },
  {
   "cell_type": "code",
   "execution_count": 38,
   "id": "55a3a33b",
   "metadata": {},
   "outputs": [
    {
     "data": {
      "text/plain": [
       "0.22958765155555164"
      ]
     },
     "execution_count": 38,
     "metadata": {},
     "output_type": "execute_result"
    }
   ],
   "source": [
    "start_gii"
   ]
  },
  {
   "cell_type": "code",
   "execution_count": 39,
   "id": "c9406ddd",
   "metadata": {},
   "outputs": [
    {
     "name": "stdout",
     "output_type": "stream",
     "text": [
      "Time taken: --- 0.17808842658996582 seconds ---\n"
     ]
    }
   ],
   "source": [
    "start_time = time.time()\n",
    "final_gii = gii_calc.GII(final_structure, use_sym=False)\n",
    "print(\"Time taken: --- %s seconds ---\" % (time.time() - start_time))"
   ]
  },
  {
   "cell_type": "code",
   "execution_count": 40,
   "id": "5cdce0d5",
   "metadata": {},
   "outputs": [
    {
     "data": {
      "text/plain": [
       "0.22521258089793017"
      ]
     },
     "execution_count": 40,
     "metadata": {},
     "output_type": "execute_result"
    }
   ],
   "source": [
    "final_gii"
   ]
  },
  {
   "cell_type": "markdown",
   "id": "36d850e3",
   "metadata": {},
   "source": [
    "## Perform the Structure Optimization "
   ]
  },
  {
   "cell_type": "code",
   "execution_count": null,
   "id": "91734c24",
   "metadata": {},
   "outputs": [],
   "source": [
    "from gii_minimization import GIIMinimizer"
   ]
  },
  {
   "cell_type": "code",
   "execution_count": null,
   "id": "8caa895b",
   "metadata": {},
   "outputs": [],
   "source": [
    "gii_minimizer = GIIMinimizer(oxi_structure, 0.001)"
   ]
  },
  {
   "cell_type": "code",
   "execution_count": null,
   "id": "ff42b5b2",
   "metadata": {},
   "outputs": [],
   "source": [
    "optimized_structure = gii_minimizer.gii_minimization(opt_method='max')"
   ]
  }
 ],
 "metadata": {
  "kernelspec": {
   "display_name": "Python 3 (ipykernel)",
   "language": "python",
   "name": "python3"
  },
  "language_info": {
   "codemirror_mode": {
    "name": "ipython",
    "version": 3
   },
   "file_extension": ".py",
   "mimetype": "text/x-python",
   "name": "python",
   "nbconvert_exporter": "python",
   "pygments_lexer": "ipython3",
   "version": "3.9.5"
  }
 },
 "nbformat": 4,
 "nbformat_minor": 5
}
